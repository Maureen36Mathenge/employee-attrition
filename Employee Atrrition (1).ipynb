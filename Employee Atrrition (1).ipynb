{
 "cells": [
  {
   "cell_type": "markdown",
   "metadata": {},
   "source": [
    "# Define the Question \n",
    "## Specify the Question\n",
    "\n",
    "The data is for company X which is trying to control attrition. There are two sets of data: \"Existing employees\" and \"Employees who have left\". Following attributes are available for every employee.\n",
    "\n",
    "Satisfaction Level\n",
    "Last evaluation\n",
    "\n",
    "Number of projects\n",
    "\n",
    "Average monthly hours\n",
    "\n",
    "Time spent at the company\n",
    "\n",
    "Whether they have had a work accident\n",
    "\n",
    "Whether they have had a promotion in the last 5 years\n",
    "\n",
    "Departments (column sales)\n",
    "\n",
    "Salary\n",
    "\n",
    "Whether the employee has left\n",
    "\n",
    "\n",
    "## Metric of Success\n",
    "\n",
    "Discover what time of employees are leaving \n",
    "\n",
    "Determine accurately the employees likely to leave\n",
    "\n",
    "## Experimental Design\n",
    "Loading libraries and data\n",
    "\n",
    "Data Understanding \n",
    "\n",
    "Data Preparation"
   ]
  },
  {
   "cell_type": "code",
   "execution_count": 148,
   "metadata": {},
   "outputs": [],
   "source": [
    "#import libraries\n",
    "import pandas as pd\n",
    "import numpy as np\n",
    "\n",
    "#visualization\n",
    "import seaborn as sns \n",
    "from matplotlib import pyplot as plt "
   ]
  },
  {
   "cell_type": "code",
   "execution_count": 149,
   "metadata": {},
   "outputs": [
    {
     "data": {
      "text/plain": [
       "<pandas.io.excel._base.ExcelFile at 0x1f0b3865388>"
      ]
     },
     "execution_count": 149,
     "metadata": {},
     "output_type": "execute_result"
    }
   ],
   "source": [
    "#load the file with the datasets \n",
    "df = pd.ExcelFile(\"Hash-Analytic-Python-Analytics-Problem-case-study-1.xlsx\")\n",
    "df"
   ]
  },
  {
   "cell_type": "code",
   "execution_count": 150,
   "metadata": {},
   "outputs": [
    {
     "data": {
      "text/plain": [
       "['INFO', 'Existing employees', 'Employees who have left', 'Presentation']"
      ]
     },
     "execution_count": 150,
     "metadata": {},
     "output_type": "execute_result"
    }
   ],
   "source": [
    "sheet_names = df.sheet_names\n",
    "sheet_names"
   ]
  },
  {
   "cell_type": "code",
   "execution_count": 151,
   "metadata": {},
   "outputs": [
    {
     "data": {
      "text/html": [
       "<div>\n",
       "<style scoped>\n",
       "    .dataframe tbody tr th:only-of-type {\n",
       "        vertical-align: middle;\n",
       "    }\n",
       "\n",
       "    .dataframe tbody tr th {\n",
       "        vertical-align: top;\n",
       "    }\n",
       "\n",
       "    .dataframe thead th {\n",
       "        text-align: right;\n",
       "    }\n",
       "</style>\n",
       "<table border=\"1\" class=\"dataframe\">\n",
       "  <thead>\n",
       "    <tr style=\"text-align: right;\">\n",
       "      <th></th>\n",
       "      <th>The data is for company X which is trying to control attrition. There are two sets of data: \"Existing employees\" and \"Employees who have left\". Following attributes are available for every employee.</th>\n",
       "    </tr>\n",
       "  </thead>\n",
       "  <tbody>\n",
       "    <tr>\n",
       "      <td>0</td>\n",
       "      <td>Satisfaction Level</td>\n",
       "    </tr>\n",
       "    <tr>\n",
       "      <td>1</td>\n",
       "      <td>Last evaluation</td>\n",
       "    </tr>\n",
       "    <tr>\n",
       "      <td>2</td>\n",
       "      <td>Number of projects</td>\n",
       "    </tr>\n",
       "    <tr>\n",
       "      <td>3</td>\n",
       "      <td>Average monthly hours</td>\n",
       "    </tr>\n",
       "    <tr>\n",
       "      <td>4</td>\n",
       "      <td>Time spent at the company</td>\n",
       "    </tr>\n",
       "  </tbody>\n",
       "</table>\n",
       "</div>"
      ],
      "text/plain": [
       "  The data is for company X which is trying to control attrition. There are two sets of data: \"Existing employees\" and \"Employees who have left\". Following attributes are available for every employee.\n",
       "0                                 Satisfaction Level                                                                                                                                                    \n",
       "1                                    Last evaluation                                                                                                                                                    \n",
       "2                                 Number of projects                                                                                                                                                    \n",
       "3                              Average monthly hours                                                                                                                                                    \n",
       "4                          Time spent at the company                                                                                                                                                    "
      ]
     },
     "metadata": {},
     "output_type": "display_data"
    },
    {
     "data": {
      "text/html": [
       "<div>\n",
       "<style scoped>\n",
       "    .dataframe tbody tr th:only-of-type {\n",
       "        vertical-align: middle;\n",
       "    }\n",
       "\n",
       "    .dataframe tbody tr th {\n",
       "        vertical-align: top;\n",
       "    }\n",
       "\n",
       "    .dataframe thead th {\n",
       "        text-align: right;\n",
       "    }\n",
       "</style>\n",
       "<table border=\"1\" class=\"dataframe\">\n",
       "  <thead>\n",
       "    <tr style=\"text-align: right;\">\n",
       "      <th></th>\n",
       "      <th>Emp ID</th>\n",
       "      <th>satisfaction_level</th>\n",
       "      <th>last_evaluation</th>\n",
       "      <th>number_project</th>\n",
       "      <th>average_montly_hours</th>\n",
       "      <th>time_spend_company</th>\n",
       "      <th>Work_accident</th>\n",
       "      <th>promotion_last_5years</th>\n",
       "      <th>dept</th>\n",
       "      <th>salary</th>\n",
       "    </tr>\n",
       "  </thead>\n",
       "  <tbody>\n",
       "    <tr>\n",
       "      <td>0</td>\n",
       "      <td>2001</td>\n",
       "      <td>0.58</td>\n",
       "      <td>0.74</td>\n",
       "      <td>4</td>\n",
       "      <td>215</td>\n",
       "      <td>3</td>\n",
       "      <td>0</td>\n",
       "      <td>0</td>\n",
       "      <td>sales</td>\n",
       "      <td>low</td>\n",
       "    </tr>\n",
       "    <tr>\n",
       "      <td>1</td>\n",
       "      <td>2002</td>\n",
       "      <td>0.82</td>\n",
       "      <td>0.67</td>\n",
       "      <td>2</td>\n",
       "      <td>202</td>\n",
       "      <td>3</td>\n",
       "      <td>0</td>\n",
       "      <td>0</td>\n",
       "      <td>sales</td>\n",
       "      <td>low</td>\n",
       "    </tr>\n",
       "    <tr>\n",
       "      <td>2</td>\n",
       "      <td>2003</td>\n",
       "      <td>0.45</td>\n",
       "      <td>0.69</td>\n",
       "      <td>5</td>\n",
       "      <td>193</td>\n",
       "      <td>3</td>\n",
       "      <td>0</td>\n",
       "      <td>0</td>\n",
       "      <td>sales</td>\n",
       "      <td>low</td>\n",
       "    </tr>\n",
       "    <tr>\n",
       "      <td>3</td>\n",
       "      <td>2004</td>\n",
       "      <td>0.78</td>\n",
       "      <td>0.82</td>\n",
       "      <td>5</td>\n",
       "      <td>247</td>\n",
       "      <td>3</td>\n",
       "      <td>0</td>\n",
       "      <td>0</td>\n",
       "      <td>sales</td>\n",
       "      <td>low</td>\n",
       "    </tr>\n",
       "    <tr>\n",
       "      <td>4</td>\n",
       "      <td>2005</td>\n",
       "      <td>0.49</td>\n",
       "      <td>0.60</td>\n",
       "      <td>3</td>\n",
       "      <td>214</td>\n",
       "      <td>2</td>\n",
       "      <td>0</td>\n",
       "      <td>0</td>\n",
       "      <td>sales</td>\n",
       "      <td>low</td>\n",
       "    </tr>\n",
       "  </tbody>\n",
       "</table>\n",
       "</div>"
      ],
      "text/plain": [
       "   Emp ID  satisfaction_level  last_evaluation  number_project  \\\n",
       "0    2001                0.58             0.74               4   \n",
       "1    2002                0.82             0.67               2   \n",
       "2    2003                0.45             0.69               5   \n",
       "3    2004                0.78             0.82               5   \n",
       "4    2005                0.49             0.60               3   \n",
       "\n",
       "   average_montly_hours  time_spend_company  Work_accident  \\\n",
       "0                   215                   3              0   \n",
       "1                   202                   3              0   \n",
       "2                   193                   3              0   \n",
       "3                   247                   3              0   \n",
       "4                   214                   2              0   \n",
       "\n",
       "   promotion_last_5years   dept salary  \n",
       "0                      0  sales    low  \n",
       "1                      0  sales    low  \n",
       "2                      0  sales    low  \n",
       "3                      0  sales    low  \n",
       "4                      0  sales    low  "
      ]
     },
     "metadata": {},
     "output_type": "display_data"
    },
    {
     "data": {
      "text/html": [
       "<div>\n",
       "<style scoped>\n",
       "    .dataframe tbody tr th:only-of-type {\n",
       "        vertical-align: middle;\n",
       "    }\n",
       "\n",
       "    .dataframe tbody tr th {\n",
       "        vertical-align: top;\n",
       "    }\n",
       "\n",
       "    .dataframe thead th {\n",
       "        text-align: right;\n",
       "    }\n",
       "</style>\n",
       "<table border=\"1\" class=\"dataframe\">\n",
       "  <thead>\n",
       "    <tr style=\"text-align: right;\">\n",
       "      <th></th>\n",
       "      <th>Emp ID</th>\n",
       "      <th>satisfaction_level</th>\n",
       "      <th>last_evaluation</th>\n",
       "      <th>number_project</th>\n",
       "      <th>average_montly_hours</th>\n",
       "      <th>time_spend_company</th>\n",
       "      <th>Work_accident</th>\n",
       "      <th>promotion_last_5years</th>\n",
       "      <th>dept</th>\n",
       "      <th>salary</th>\n",
       "    </tr>\n",
       "  </thead>\n",
       "  <tbody>\n",
       "    <tr>\n",
       "      <td>0</td>\n",
       "      <td>1</td>\n",
       "      <td>0.38</td>\n",
       "      <td>0.53</td>\n",
       "      <td>2</td>\n",
       "      <td>157</td>\n",
       "      <td>3</td>\n",
       "      <td>0</td>\n",
       "      <td>0</td>\n",
       "      <td>sales</td>\n",
       "      <td>low</td>\n",
       "    </tr>\n",
       "    <tr>\n",
       "      <td>1</td>\n",
       "      <td>2</td>\n",
       "      <td>0.80</td>\n",
       "      <td>0.86</td>\n",
       "      <td>5</td>\n",
       "      <td>262</td>\n",
       "      <td>6</td>\n",
       "      <td>0</td>\n",
       "      <td>0</td>\n",
       "      <td>sales</td>\n",
       "      <td>medium</td>\n",
       "    </tr>\n",
       "    <tr>\n",
       "      <td>2</td>\n",
       "      <td>3</td>\n",
       "      <td>0.11</td>\n",
       "      <td>0.88</td>\n",
       "      <td>7</td>\n",
       "      <td>272</td>\n",
       "      <td>4</td>\n",
       "      <td>0</td>\n",
       "      <td>0</td>\n",
       "      <td>sales</td>\n",
       "      <td>medium</td>\n",
       "    </tr>\n",
       "    <tr>\n",
       "      <td>3</td>\n",
       "      <td>4</td>\n",
       "      <td>0.72</td>\n",
       "      <td>0.87</td>\n",
       "      <td>5</td>\n",
       "      <td>223</td>\n",
       "      <td>5</td>\n",
       "      <td>0</td>\n",
       "      <td>0</td>\n",
       "      <td>sales</td>\n",
       "      <td>low</td>\n",
       "    </tr>\n",
       "    <tr>\n",
       "      <td>4</td>\n",
       "      <td>5</td>\n",
       "      <td>0.37</td>\n",
       "      <td>0.52</td>\n",
       "      <td>2</td>\n",
       "      <td>159</td>\n",
       "      <td>3</td>\n",
       "      <td>0</td>\n",
       "      <td>0</td>\n",
       "      <td>sales</td>\n",
       "      <td>low</td>\n",
       "    </tr>\n",
       "  </tbody>\n",
       "</table>\n",
       "</div>"
      ],
      "text/plain": [
       "   Emp ID  satisfaction_level  last_evaluation  number_project  \\\n",
       "0       1                0.38             0.53               2   \n",
       "1       2                0.80             0.86               5   \n",
       "2       3                0.11             0.88               7   \n",
       "3       4                0.72             0.87               5   \n",
       "4       5                0.37             0.52               2   \n",
       "\n",
       "   average_montly_hours  time_spend_company  Work_accident  \\\n",
       "0                   157                   3              0   \n",
       "1                   262                   6              0   \n",
       "2                   272                   4              0   \n",
       "3                   223                   5              0   \n",
       "4                   159                   3              0   \n",
       "\n",
       "   promotion_last_5years   dept  salary  \n",
       "0                      0  sales     low  \n",
       "1                      0  sales  medium  \n",
       "2                      0  sales  medium  \n",
       "3                      0  sales     low  \n",
       "4                      0  sales     low  "
      ]
     },
     "metadata": {},
     "output_type": "display_data"
    }
   ],
   "source": [
    "#load each sheet as a dataframe \n",
    "#sheet1\n",
    "deliverables = df.parse(\"INFO\")\n",
    "display(deliverables.head())\n",
    "\n",
    "#sheet2 \n",
    "existing_emp = df.parse(\"Existing employees\")\n",
    "display(existing_emp.head())\n",
    "\n",
    "#Sheet3\n",
    "left_emp = df.parse(\"Employees who have left\")\n",
    "display(left_emp.head())"
   ]
  },
  {
   "cell_type": "markdown",
   "metadata": {},
   "source": [
    "# Left Employees "
   ]
  },
  {
   "cell_type": "markdown",
   "metadata": {},
   "source": [
    "### Data Understanding"
   ]
  },
  {
   "cell_type": "code",
   "execution_count": 152,
   "metadata": {},
   "outputs": [
    {
     "data": {
      "text/plain": [
       "(3571, 10)"
      ]
     },
     "execution_count": 152,
     "metadata": {},
     "output_type": "execute_result"
    }
   ],
   "source": [
    "#Total rows and columns\n",
    "left_emp.shape\n",
    "#there exists 10 columns ans 3571 rows "
   ]
  },
  {
   "cell_type": "code",
   "execution_count": 153,
   "metadata": {},
   "outputs": [
    {
     "data": {
      "text/plain": [
       "Emp ID                     int64\n",
       "satisfaction_level       float64\n",
       "last_evaluation          float64\n",
       "number_project             int64\n",
       "average_montly_hours       int64\n",
       "time_spend_company         int64\n",
       "Work_accident              int64\n",
       "promotion_last_5years      int64\n",
       "dept                      object\n",
       "salary                    object\n",
       "dtype: object"
      ]
     },
     "execution_count": 153,
     "metadata": {},
     "output_type": "execute_result"
    }
   ],
   "source": [
    "#data types \n",
    "left_emp.dtypes\n",
    "#There exists 2 objects,6 integers and 2 floats"
   ]
  },
  {
   "cell_type": "markdown",
   "metadata": {},
   "source": [
    "## Data Cleaning"
   ]
  },
  {
   "cell_type": "code",
   "execution_count": 154,
   "metadata": {},
   "outputs": [
    {
     "data": {
      "text/plain": [
       "0"
      ]
     },
     "execution_count": 154,
     "metadata": {},
     "output_type": "execute_result"
    }
   ],
   "source": [
    "#Consistency\n",
    "left_emp.duplicated().sum()"
   ]
  },
  {
   "cell_type": "code",
   "execution_count": 155,
   "metadata": {},
   "outputs": [
    {
     "data": {
      "text/plain": [
       "Emp ID                   0\n",
       "satisfaction_level       0\n",
       "last_evaluation          0\n",
       "number_project           0\n",
       "average_montly_hours     0\n",
       "time_spend_company       0\n",
       "Work_accident            0\n",
       "promotion_last_5years    0\n",
       "dept                     0\n",
       "salary                   0\n",
       "dtype: int64"
      ]
     },
     "execution_count": 155,
     "metadata": {},
     "output_type": "execute_result"
    }
   ],
   "source": [
    "#Completeness - missing values\n",
    "left_emp.isnull().sum()"
   ]
  },
  {
   "cell_type": "code",
   "execution_count": 156,
   "metadata": {},
   "outputs": [
    {
     "data": {
      "text/html": [
       "<div>\n",
       "<style scoped>\n",
       "    .dataframe tbody tr th:only-of-type {\n",
       "        vertical-align: middle;\n",
       "    }\n",
       "\n",
       "    .dataframe tbody tr th {\n",
       "        vertical-align: top;\n",
       "    }\n",
       "\n",
       "    .dataframe thead th {\n",
       "        text-align: right;\n",
       "    }\n",
       "</style>\n",
       "<table border=\"1\" class=\"dataframe\">\n",
       "  <thead>\n",
       "    <tr style=\"text-align: right;\">\n",
       "      <th></th>\n",
       "      <th>emp_id</th>\n",
       "      <th>satisfaction_level</th>\n",
       "      <th>last_evaluation</th>\n",
       "      <th>number_project</th>\n",
       "      <th>average_montly_hours</th>\n",
       "      <th>time_spend_company</th>\n",
       "      <th>work_accident</th>\n",
       "      <th>promotion_last_5years</th>\n",
       "      <th>dept</th>\n",
       "      <th>salary</th>\n",
       "    </tr>\n",
       "  </thead>\n",
       "  <tbody>\n",
       "    <tr>\n",
       "      <td>0</td>\n",
       "      <td>1</td>\n",
       "      <td>0.38</td>\n",
       "      <td>0.53</td>\n",
       "      <td>2</td>\n",
       "      <td>157</td>\n",
       "      <td>3</td>\n",
       "      <td>0</td>\n",
       "      <td>0</td>\n",
       "      <td>sales</td>\n",
       "      <td>low</td>\n",
       "    </tr>\n",
       "    <tr>\n",
       "      <td>1</td>\n",
       "      <td>2</td>\n",
       "      <td>0.80</td>\n",
       "      <td>0.86</td>\n",
       "      <td>5</td>\n",
       "      <td>262</td>\n",
       "      <td>6</td>\n",
       "      <td>0</td>\n",
       "      <td>0</td>\n",
       "      <td>sales</td>\n",
       "      <td>medium</td>\n",
       "    </tr>\n",
       "    <tr>\n",
       "      <td>2</td>\n",
       "      <td>3</td>\n",
       "      <td>0.11</td>\n",
       "      <td>0.88</td>\n",
       "      <td>7</td>\n",
       "      <td>272</td>\n",
       "      <td>4</td>\n",
       "      <td>0</td>\n",
       "      <td>0</td>\n",
       "      <td>sales</td>\n",
       "      <td>medium</td>\n",
       "    </tr>\n",
       "    <tr>\n",
       "      <td>3</td>\n",
       "      <td>4</td>\n",
       "      <td>0.72</td>\n",
       "      <td>0.87</td>\n",
       "      <td>5</td>\n",
       "      <td>223</td>\n",
       "      <td>5</td>\n",
       "      <td>0</td>\n",
       "      <td>0</td>\n",
       "      <td>sales</td>\n",
       "      <td>low</td>\n",
       "    </tr>\n",
       "    <tr>\n",
       "      <td>4</td>\n",
       "      <td>5</td>\n",
       "      <td>0.37</td>\n",
       "      <td>0.52</td>\n",
       "      <td>2</td>\n",
       "      <td>159</td>\n",
       "      <td>3</td>\n",
       "      <td>0</td>\n",
       "      <td>0</td>\n",
       "      <td>sales</td>\n",
       "      <td>low</td>\n",
       "    </tr>\n",
       "  </tbody>\n",
       "</table>\n",
       "</div>"
      ],
      "text/plain": [
       "   emp_id  satisfaction_level  last_evaluation  number_project  \\\n",
       "0       1                0.38             0.53               2   \n",
       "1       2                0.80             0.86               5   \n",
       "2       3                0.11             0.88               7   \n",
       "3       4                0.72             0.87               5   \n",
       "4       5                0.37             0.52               2   \n",
       "\n",
       "   average_montly_hours  time_spend_company  work_accident  \\\n",
       "0                   157                   3              0   \n",
       "1                   262                   6              0   \n",
       "2                   272                   4              0   \n",
       "3                   223                   5              0   \n",
       "4                   159                   3              0   \n",
       "\n",
       "   promotion_last_5years   dept  salary  \n",
       "0                      0  sales     low  \n",
       "1                      0  sales  medium  \n",
       "2                      0  sales  medium  \n",
       "3                      0  sales     low  \n",
       "4                      0  sales     low  "
      ]
     },
     "execution_count": 156,
     "metadata": {},
     "output_type": "execute_result"
    }
   ],
   "source": [
    "#Uniformity\n",
    "#Create uniformity the the column names \n",
    "left_emp.columns = left_emp.columns.str.strip().str.lower().str.replace(' ', '_').str.replace('(', '').str.replace(')', '')\n",
    "left_emp.head()\n",
    "#all the white spaces have been eliminated and the column names are all in lowercase"
   ]
  },
  {
   "cell_type": "code",
   "execution_count": 157,
   "metadata": {},
   "outputs": [
    {
     "data": {
      "text/plain": [
       "Index(['emp_id', 'satisfaction_level', 'last_evaluation', 'number_project',\n",
       "       'average_montly_hours', 'time_spend_company', 'work_accident',\n",
       "       'promotion_last_5years', 'dept', 'salary'],\n",
       "      dtype='object')"
      ]
     },
     "execution_count": 157,
     "metadata": {},
     "output_type": "execute_result"
    }
   ],
   "source": [
    "left_emp.columns"
   ]
  },
  {
   "cell_type": "markdown",
   "metadata": {},
   "source": [
    "## Feature Engineering"
   ]
  },
  {
   "cell_type": "code",
   "execution_count": 158,
   "metadata": {},
   "outputs": [],
   "source": [
    "# Feature Engineering\n",
    "def satisfaction(df,variable_1):\n",
    "  variable2_count = 0\n",
    "  for ind ,row in df.iterrows():\n",
    "    if row[variable_1] <= 0.25:\n",
    "      df.loc[ind,'satisfaction'] = 0.25\n",
    "    \n",
    "    elif ((row[variable_1] > 0.25) & (row[variable_1] < 0.75)):\n",
    "      df.loc[ind,'satisfaction'] = 0.50\n",
    "    \n",
    "    elif row[variable_1] >= 0.75:\n",
    "        df.loc[ind,'satisfaction'] = 0.75\n",
    "        \n",
    "    else:\n",
    "      df.loc[ind,'satisfaction'] = 0"
   ]
  },
  {
   "cell_type": "code",
   "execution_count": 159,
   "metadata": {},
   "outputs": [],
   "source": [
    "#mplement the function \n",
    "satisfaction(left_emp,\"satisfaction_level\")"
   ]
  },
  {
   "cell_type": "code",
   "execution_count": 160,
   "metadata": {},
   "outputs": [
    {
     "data": {
      "text/html": [
       "<div>\n",
       "<style scoped>\n",
       "    .dataframe tbody tr th:only-of-type {\n",
       "        vertical-align: middle;\n",
       "    }\n",
       "\n",
       "    .dataframe tbody tr th {\n",
       "        vertical-align: top;\n",
       "    }\n",
       "\n",
       "    .dataframe thead th {\n",
       "        text-align: right;\n",
       "    }\n",
       "</style>\n",
       "<table border=\"1\" class=\"dataframe\">\n",
       "  <thead>\n",
       "    <tr style=\"text-align: right;\">\n",
       "      <th></th>\n",
       "      <th>emp_id</th>\n",
       "      <th>satisfaction_level</th>\n",
       "      <th>last_evaluation</th>\n",
       "      <th>number_project</th>\n",
       "      <th>average_montly_hours</th>\n",
       "      <th>time_spend_company</th>\n",
       "      <th>work_accident</th>\n",
       "      <th>promotion_last_5years</th>\n",
       "      <th>dept</th>\n",
       "      <th>salary</th>\n",
       "      <th>satisfaction</th>\n",
       "    </tr>\n",
       "  </thead>\n",
       "  <tbody>\n",
       "    <tr>\n",
       "      <td>3491</td>\n",
       "      <td>14920</td>\n",
       "      <td>0.37</td>\n",
       "      <td>0.54</td>\n",
       "      <td>2</td>\n",
       "      <td>157</td>\n",
       "      <td>3</td>\n",
       "      <td>0</td>\n",
       "      <td>0</td>\n",
       "      <td>support</td>\n",
       "      <td>low</td>\n",
       "      <td>0.50</td>\n",
       "    </tr>\n",
       "    <tr>\n",
       "      <td>3394</td>\n",
       "      <td>14823</td>\n",
       "      <td>0.39</td>\n",
       "      <td>0.53</td>\n",
       "      <td>2</td>\n",
       "      <td>127</td>\n",
       "      <td>3</td>\n",
       "      <td>0</td>\n",
       "      <td>0</td>\n",
       "      <td>sales</td>\n",
       "      <td>medium</td>\n",
       "      <td>0.50</td>\n",
       "    </tr>\n",
       "    <tr>\n",
       "      <td>1214</td>\n",
       "      <td>1215</td>\n",
       "      <td>0.09</td>\n",
       "      <td>0.87</td>\n",
       "      <td>7</td>\n",
       "      <td>278</td>\n",
       "      <td>4</td>\n",
       "      <td>0</td>\n",
       "      <td>0</td>\n",
       "      <td>IT</td>\n",
       "      <td>low</td>\n",
       "      <td>0.25</td>\n",
       "    </tr>\n",
       "    <tr>\n",
       "      <td>3355</td>\n",
       "      <td>14784</td>\n",
       "      <td>0.75</td>\n",
       "      <td>0.97</td>\n",
       "      <td>5</td>\n",
       "      <td>243</td>\n",
       "      <td>6</td>\n",
       "      <td>0</td>\n",
       "      <td>0</td>\n",
       "      <td>technical</td>\n",
       "      <td>medium</td>\n",
       "      <td>0.75</td>\n",
       "    </tr>\n",
       "    <tr>\n",
       "      <td>1126</td>\n",
       "      <td>1127</td>\n",
       "      <td>0.88</td>\n",
       "      <td>0.87</td>\n",
       "      <td>4</td>\n",
       "      <td>235</td>\n",
       "      <td>6</td>\n",
       "      <td>0</td>\n",
       "      <td>0</td>\n",
       "      <td>management</td>\n",
       "      <td>low</td>\n",
       "      <td>0.75</td>\n",
       "    </tr>\n",
       "  </tbody>\n",
       "</table>\n",
       "</div>"
      ],
      "text/plain": [
       "      emp_id  satisfaction_level  last_evaluation  number_project  \\\n",
       "3491   14920                0.37             0.54               2   \n",
       "3394   14823                0.39             0.53               2   \n",
       "1214    1215                0.09             0.87               7   \n",
       "3355   14784                0.75             0.97               5   \n",
       "1126    1127                0.88             0.87               4   \n",
       "\n",
       "      average_montly_hours  time_spend_company  work_accident  \\\n",
       "3491                   157                   3              0   \n",
       "3394                   127                   3              0   \n",
       "1214                   278                   4              0   \n",
       "3355                   243                   6              0   \n",
       "1126                   235                   6              0   \n",
       "\n",
       "      promotion_last_5years        dept  salary  satisfaction  \n",
       "3491                      0     support     low          0.50  \n",
       "3394                      0       sales  medium          0.50  \n",
       "1214                      0          IT     low          0.25  \n",
       "3355                      0   technical  medium          0.75  \n",
       "1126                      0  management     low          0.75  "
      ]
     },
     "execution_count": 160,
     "metadata": {},
     "output_type": "execute_result"
    }
   ],
   "source": [
    "#view the dataframe again\n",
    "left_emp.sample(5)"
   ]
  },
  {
   "cell_type": "markdown",
   "metadata": {},
   "source": [
    "## Exploratory Data Analysis"
   ]
  },
  {
   "cell_type": "markdown",
   "metadata": {},
   "source": [
    "### Univariate Analysis"
   ]
  },
  {
   "cell_type": "code",
   "execution_count": 161,
   "metadata": {},
   "outputs": [
    {
     "data": {
      "image/png": "[encoded data removed]",
      "text/plain": [
       "<Figure size 792x576 with 1 Axes>"
      ]
     },
     "metadata": {
      "needs_background": "light"
     },
     "output_type": "display_data"
    }
   ],
   "source": [
    "#categorical = ['dept']\n",
    "plt.figure(figsize=(11,8))\n",
    "sns.countplot(left_emp.dept)\n",
    "plt.ylabel(\"Number of people in the departments\")\n",
    "plt.xlabel(\"Departments\")\n",
    "plt.title(\"Total number of people per department - Left Employees\")\n",
    "plt.show()\n",
    "#sales,support and technical departments have more people"
   ]
  },
  {
   "cell_type": "code",
   "execution_count": 162,
   "metadata": {},
   "outputs": [
    {
     "data": {
      "image/png": "[encoded data removed]",
      "text/plain": [
       "<Figure size 792x576 with 1 Axes>"
      ]
     },
     "metadata": {
      "needs_background": "light"
     },
     "output_type": "display_data"
    }
   ],
   "source": [
    "#Salary\n",
    "plt.figure(figsize=(11,8))\n",
    "sns.countplot(left_emp.salary)\n",
    "plt.ylabel(\"Total Salary\")\n",
    "plt.xlabel(\"Range of salary\")\n",
    "plt.title(\"Salary - Left Employees\")\n",
    "plt.show()\n",
    "#the salary of majority of the employees is either low or medium"
   ]
  },
  {
   "cell_type": "code",
   "execution_count": 163,
   "metadata": {},
   "outputs": [
    {
     "data": {
      "image/png": "[encoded data removed]",
      "text/plain": [
       "<Figure size 576x576 with 1 Axes>"
      ]
     },
     "metadata": {
      "needs_background": "light"
     },
     "output_type": "display_data"
    }
   ],
   "source": [
    "#satisfaction of the employees \n",
    "plt.figure(figsize=(8,8))\n",
    "plt.hist(left_emp[\"satisfaction_level\"],bins = 30,color=\"purple\")\n",
    "plt.xlabel(\"Satisfaction levels\")\n",
    "plt.title(\"Satisfaction in the company - Left Employees\")\n",
    "plt.show()\n",
    "#majority of the employees that have left were had a satisfaction percentage of <= 25%"
   ]
  },
  {
   "cell_type": "code",
   "execution_count": 164,
   "metadata": {},
   "outputs": [
    {
     "data": {
      "image/png": "[encoded data removed]",
      "text/plain": [
       "<Figure size 576x576 with 1 Axes>"
      ]
     },
     "metadata": {
      "needs_background": "light"
     },
     "output_type": "display_data"
    }
   ],
   "source": [
    "#Evaluation\n",
    "plt.figure(figsize=(8,8))\n",
    "plt.hist(left_emp[\"last_evaluation\"],bins = 30,color=\"purple\")\n",
    "plt.xlabel(\"last_evaluation\")\n",
    "plt.title(\"Evaluation in the company- Left Employees\")\n",
    "plt.show()"
   ]
  },
  {
   "cell_type": "code",
   "execution_count": 165,
   "metadata": {},
   "outputs": [
    {
     "data": {
      "image/png": "[encoded data removed]",
      "text/plain": [
       "<Figure size 576x576 with 1 Axes>"
      ]
     },
     "metadata": {
      "needs_background": "light"
     },
     "output_type": "display_data"
    }
   ],
   "source": [
    "#Number of projects\n",
    "plt.figure(figsize=(8,8))\n",
    "plt.hist(left_emp[\"number_project\"],bins = 30,color=\"purple\")\n",
    "plt.xlabel(\"number_project\")\n",
    "plt.title(\"Total number of projects per employee- Left Employees\")\n",
    "plt.show()"
   ]
  },
  {
   "cell_type": "code",
   "execution_count": 166,
   "metadata": {},
   "outputs": [
    {
     "data": {
      "image/png": "[encoded data removed]",
      "text/plain": [
       "<Figure size 576x576 with 1 Axes>"
      ]
     },
     "metadata": {
      "needs_background": "light"
     },
     "output_type": "display_data"
    }
   ],
   "source": [
    "#Average hours\n",
    "plt.figure(figsize=(8,8))\n",
    "plt.hist(left_emp[\"average_montly_hours\"],bins = 30,color=\"purple\")\n",
    "plt.xlabel(\"average_montly_hours\")\n",
    "plt.title(\"Average monthly hours per employee- Left Employees\")\n",
    "plt.show()"
   ]
  },
  {
   "cell_type": "code",
   "execution_count": 167,
   "metadata": {},
   "outputs": [
    {
     "data": {
      "image/png": "[encoded data removed]",
      "text/plain": [
       "<Figure size 576x576 with 1 Axes>"
      ]
     },
     "metadata": {
      "needs_background": "light"
     },
     "output_type": "display_data"
    }
   ],
   "source": [
    "#Duration of time in the company\n",
    "plt.figure(figsize=(8,8))\n",
    "plt.hist(left_emp[\"time_spend_company\"],bins = 30,color=\"purple\")\n",
    "plt.xlabel(\"time_spend_company\")\n",
    "plt.title(\"Years spent in the company- Left Employees\")\n",
    "plt.show()"
   ]
  },
  {
   "cell_type": "code",
   "execution_count": 168,
   "metadata": {},
   "outputs": [
    {
     "data": {
      "image/png": "[encoded data removed]",
      "text/plain": [
       "<Figure size 576x576 with 1 Axes>"
      ]
     },
     "metadata": {
      "needs_background": "light"
     },
     "output_type": "display_data"
    }
   ],
   "source": [
    "#Work Accident\n",
    "plt.figure(figsize=(8,8))\n",
    "plt.hist(left_emp[\"work_accident\"],color=\"purple\")\n",
    "plt.xlabel(\"work_accident\")\n",
    "plt.title(\"Work accident in the company- Left Employees\")\n",
    "plt.show()"
   ]
  },
  {
   "cell_type": "code",
   "execution_count": 169,
   "metadata": {},
   "outputs": [
    {
     "data": {
      "image/png": "[encoded data removed]",
      "text/plain": [
       "<Figure size 576x576 with 1 Axes>"
      ]
     },
     "metadata": {
      "needs_background": "light"
     },
     "output_type": "display_data"
    }
   ],
   "source": [
    "#promotion in the past 5 years\n",
    "plt.figure(figsize=(8,8))\n",
    "plt.hist(left_emp[\"promotion_last_5years\"],bins = 30,color=\"purple\")\n",
    "plt.xlabel(\"promotion_last_5years\")\n",
    "plt.title(\"Promotion in the last 5 years- Left Employees\")\n",
    "plt.show()"
   ]
  },
  {
   "cell_type": "markdown",
   "metadata": {},
   "source": [
    "### Bivariate Analysis"
   ]
  },
  {
   "cell_type": "code",
   "execution_count": 170,
   "metadata": {},
   "outputs": [
    {
     "data": {
      "text/plain": [
       "<Figure size 1080x1080 with 0 Axes>"
      ]
     },
     "metadata": {},
     "output_type": "display_data"
    },
    {
     "data": {
      "image/png": "[encoded data removed]",
      "text/plain": [
       "<Figure size 432x288 with 1 Axes>"
      ]
     },
     "metadata": {
      "needs_background": "light"
     },
     "output_type": "display_data"
    }
   ],
   "source": [
    "# Department vs Satisfaction\n",
    "plt.figure(figsize=(15,15))\n",
    "left_emp.groupby('dept')[\"satisfaction\"].value_counts().unstack(0).plot.bar()\n",
    "plt.title(\"Department vs Satisfaction - Left Employees\")\n",
    "plt.xlabel(\"Satisfaction\")\n",
    "plt.ylabel(\"Count\")\n",
    "plt.show()\n",
    "# Majority of the unsatisfied employees are in the sales,technical and support team\n",
    "#this could be attributed by the high number of employees in these departments"
   ]
  },
  {
   "cell_type": "code",
   "execution_count": 171,
   "metadata": {},
   "outputs": [
    {
     "data": {
      "text/plain": [
       "dept\n",
       "IT              273\n",
       "RandD           121\n",
       "accounting      204\n",
       "hr              215\n",
       "management       91\n",
       "marketing       203\n",
       "product_mng     198\n",
       "sales          1014\n",
       "support         555\n",
       "technical       697\n",
       "Name: emp_id, dtype: int64"
      ]
     },
     "execution_count": 171,
     "metadata": {},
     "output_type": "execute_result"
    },
    {
     "data": {
      "text/plain": [
       "<Figure size 432x432 with 0 Axes>"
      ]
     },
     "metadata": {},
     "output_type": "display_data"
    }
   ],
   "source": [
    "#Which Department has more employees\n",
    "plt.figure(figsize=(6,6))\n",
    "left_emp.groupby(\"dept\")[\"emp_id\"].count()"
   ]
  },
  {
   "cell_type": "code",
   "execution_count": 172,
   "metadata": {},
   "outputs": [
    {
     "data": {
      "text/plain": [
       "<Figure size 432x432 with 0 Axes>"
      ]
     },
     "metadata": {},
     "output_type": "display_data"
    },
    {
     "data": {
      "image/png": "[encoded data removed]",
      "text/plain": [
       "<Figure size 432x288 with 1 Axes>"
      ]
     },
     "metadata": {
      "needs_background": "light"
     },
     "output_type": "display_data"
    }
   ],
   "source": [
    "#Relationship between the number of projects and salary\n",
    "plt.figure(figsize=(6,6))\n",
    "left_emp.groupby('salary')['number_project'].value_counts().unstack(0).plot.bar()\n",
    "plt.title(\"Salary vs Number of Projects- Left Employees\")\n",
    "plt.xlabel(\"Number of projects\")\n",
    "plt.show()\n",
    "\n",
    "#From this graph, we can see that majority of the people who leave either have low or medium payments\n",
    "#They are also overworked with very poor wages\n",
    "#Majority of the higher earners remain in the business. The few who leave, we can make the assumption that they either opt to retire, have received better opportunities etc\n"
   ]
  },
  {
   "cell_type": "code",
   "execution_count": 173,
   "metadata": {},
   "outputs": [
    {
     "data": {
      "text/plain": [
       "<Figure size 432x432 with 0 Axes>"
      ]
     },
     "metadata": {},
     "output_type": "display_data"
    },
    {
     "data": {
      "image/png": "[encoded data removed]",
      "text/plain": [
       "<Figure size 432x288 with 1 Axes>"
      ]
     },
     "metadata": {
      "needs_background": "light"
     },
     "output_type": "display_data"
    }
   ],
   "source": [
    "#Employee duration in the company vs the salary they earn\n",
    "plt.figure(figsize=(6,6))\n",
    "left_emp.groupby('time_spend_company')['salary'].value_counts().unstack(0).plot.bar()\n",
    "plt.title(\"Salary vs Time spent in the company- Left Employees\")\n",
    "plt.xlabel(\"Salary\")\n",
    "plt.show()\n",
    "#Majority that have left have been in the company for more than 3 years and still had to bare with poor wages"
   ]
  },
  {
   "cell_type": "code",
   "execution_count": 174,
   "metadata": {},
   "outputs": [
    {
     "data": {
      "image/png": "[encoded data removed]",
      "text/plain": [
       "<Figure size 432x288 with 1 Axes>"
      ]
     },
     "metadata": {
      "needs_background": "light"
     },
     "output_type": "display_data"
    }
   ],
   "source": [
    "#Number of projects Vs Promotion in the last 5 years \n",
    "left_emp.groupby(['number_project'])['promotion_last_5years'].value_counts().unstack(0).plot.bar()\n",
    "plt.title(\"Number of projects vs Promotion in the last 5 years- Left Employees\")\n",
    "plt.xlabel(\"Promotion in the last 5 years\")\n",
    "plt.show()\n",
    "#Previous employees barely received any promotions"
   ]
  },
  {
   "cell_type": "code",
   "execution_count": 175,
   "metadata": {},
   "outputs": [
    {
     "data": {
      "image/png": "[encoded data removed]",
      "text/plain": [
       "<Figure size 432x288 with 1 Axes>"
      ]
     },
     "metadata": {
      "needs_background": "light"
     },
     "output_type": "display_data"
    }
   ],
   "source": [
    "#Could the employees could cause them not to receive promotions\n",
    "left_emp.groupby(['work_accident'])['promotion_last_5years'].value_counts().unstack(0).plot.bar()\n",
    "plt.title(\"Work accident vs Promotion in the last 5 years- Left Employees\")\n",
    "plt.xlabel(\"Promotion in the last 5 years\")\n",
    "plt.show()\n",
    "\n",
    "#The company looks like they have lost the best employees \n",
    "#This assumption is based on the fact thatthey have never been involved in any accident"
   ]
  },
  {
   "cell_type": "markdown",
   "metadata": {},
   "source": [
    "### Multivariate Analysis"
   ]
  },
  {
   "cell_type": "code",
   "execution_count": 176,
   "metadata": {},
   "outputs": [
    {
     "data": {
      "text/html": [
       "<div>\n",
       "<style scoped>\n",
       "    .dataframe tbody tr th:only-of-type {\n",
       "        vertical-align: middle;\n",
       "    }\n",
       "\n",
       "    .dataframe tbody tr th {\n",
       "        vertical-align: top;\n",
       "    }\n",
       "\n",
       "    .dataframe thead th {\n",
       "        text-align: right;\n",
       "    }\n",
       "</style>\n",
       "<table border=\"1\" class=\"dataframe\">\n",
       "  <thead>\n",
       "    <tr style=\"text-align: right;\">\n",
       "      <th></th>\n",
       "      <th>emp_id</th>\n",
       "      <th>satisfaction_level</th>\n",
       "      <th>last_evaluation</th>\n",
       "      <th>number_project</th>\n",
       "      <th>average_montly_hours</th>\n",
       "      <th>time_spend_company</th>\n",
       "      <th>work_accident</th>\n",
       "      <th>promotion_last_5years</th>\n",
       "      <th>satisfaction</th>\n",
       "    </tr>\n",
       "  </thead>\n",
       "  <tbody>\n",
       "    <tr>\n",
       "      <td>emp_id</td>\n",
       "      <td>1.000000</td>\n",
       "      <td>0.000791</td>\n",
       "      <td>-0.016324</td>\n",
       "      <td>-0.013354</td>\n",
       "      <td>-0.009820</td>\n",
       "      <td>-0.001109</td>\n",
       "      <td>-0.024144</td>\n",
       "      <td>0.016686</td>\n",
       "      <td>0.006685</td>\n",
       "    </tr>\n",
       "    <tr>\n",
       "      <td>satisfaction_level</td>\n",
       "      <td>0.000791</td>\n",
       "      <td>1.000000</td>\n",
       "      <td>0.182295</td>\n",
       "      <td>-0.227113</td>\n",
       "      <td>-0.084117</td>\n",
       "      <td>0.446440</td>\n",
       "      <td>0.005864</td>\n",
       "      <td>0.005516</td>\n",
       "      <td>0.958180</td>\n",
       "    </tr>\n",
       "    <tr>\n",
       "      <td>last_evaluation</td>\n",
       "      <td>-0.016324</td>\n",
       "      <td>0.182295</td>\n",
       "      <td>1.000000</td>\n",
       "      <td>0.804155</td>\n",
       "      <td>0.830336</td>\n",
       "      <td>0.783873</td>\n",
       "      <td>-0.001875</td>\n",
       "      <td>-0.047992</td>\n",
       "      <td>0.043592</td>\n",
       "    </tr>\n",
       "    <tr>\n",
       "      <td>number_project</td>\n",
       "      <td>-0.013354</td>\n",
       "      <td>-0.227113</td>\n",
       "      <td>0.804155</td>\n",
       "      <td>1.000000</td>\n",
       "      <td>0.875194</td>\n",
       "      <td>0.601989</td>\n",
       "      <td>-0.008401</td>\n",
       "      <td>-0.032301</td>\n",
       "      <td>-0.347915</td>\n",
       "    </tr>\n",
       "    <tr>\n",
       "      <td>average_montly_hours</td>\n",
       "      <td>-0.009820</td>\n",
       "      <td>-0.084117</td>\n",
       "      <td>0.830336</td>\n",
       "      <td>0.875194</td>\n",
       "      <td>1.000000</td>\n",
       "      <td>0.664011</td>\n",
       "      <td>-0.009048</td>\n",
       "      <td>-0.035475</td>\n",
       "      <td>-0.213180</td>\n",
       "    </tr>\n",
       "    <tr>\n",
       "      <td>time_spend_company</td>\n",
       "      <td>-0.001109</td>\n",
       "      <td>0.446440</td>\n",
       "      <td>0.783873</td>\n",
       "      <td>0.601989</td>\n",
       "      <td>0.664011</td>\n",
       "      <td>1.000000</td>\n",
       "      <td>0.005222</td>\n",
       "      <td>-0.045888</td>\n",
       "      <td>0.328817</td>\n",
       "    </tr>\n",
       "    <tr>\n",
       "      <td>work_accident</td>\n",
       "      <td>-0.024144</td>\n",
       "      <td>0.005864</td>\n",
       "      <td>-0.001875</td>\n",
       "      <td>-0.008401</td>\n",
       "      <td>-0.009048</td>\n",
       "      <td>0.005222</td>\n",
       "      <td>1.000000</td>\n",
       "      <td>0.056214</td>\n",
       "      <td>0.007676</td>\n",
       "    </tr>\n",
       "    <tr>\n",
       "      <td>promotion_last_5years</td>\n",
       "      <td>0.016686</td>\n",
       "      <td>0.005516</td>\n",
       "      <td>-0.047992</td>\n",
       "      <td>-0.032301</td>\n",
       "      <td>-0.035475</td>\n",
       "      <td>-0.045888</td>\n",
       "      <td>0.056214</td>\n",
       "      <td>1.000000</td>\n",
       "      <td>0.009282</td>\n",
       "    </tr>\n",
       "    <tr>\n",
       "      <td>satisfaction</td>\n",
       "      <td>0.006685</td>\n",
       "      <td>0.958180</td>\n",
       "      <td>0.043592</td>\n",
       "      <td>-0.347915</td>\n",
       "      <td>-0.213180</td>\n",
       "      <td>0.328817</td>\n",
       "      <td>0.007676</td>\n",
       "      <td>0.009282</td>\n",
       "      <td>1.000000</td>\n",
       "    </tr>\n",
       "  </tbody>\n",
       "</table>\n",
       "</div>"
      ],
      "text/plain": [
       "                         emp_id  satisfaction_level  last_evaluation  \\\n",
       "emp_id                 1.000000            0.000791        -0.016324   \n",
       "satisfaction_level     0.000791            1.000000         0.182295   \n",
       "last_evaluation       -0.016324            0.182295         1.000000   \n",
       "number_project        -0.013354           -0.227113         0.804155   \n",
       "average_montly_hours  -0.009820           -0.084117         0.830336   \n",
       "time_spend_company    -0.001109            0.446440         0.783873   \n",
       "work_accident         -0.024144            0.005864        -0.001875   \n",
       "promotion_last_5years  0.016686            0.005516        -0.047992   \n",
       "satisfaction           0.006685            0.958180         0.043592   \n",
       "\n",
       "                       number_project  average_montly_hours  \\\n",
       "emp_id                      -0.013354             -0.009820   \n",
       "satisfaction_level          -0.227113             -0.084117   \n",
       "last_evaluation              0.804155              0.830336   \n",
       "number_project               1.000000              0.875194   \n",
       "average_montly_hours         0.875194              1.000000   \n",
       "time_spend_company           0.601989              0.664011   \n",
       "work_accident               -0.008401             -0.009048   \n",
       "promotion_last_5years       -0.032301             -0.035475   \n",
       "satisfaction                -0.347915             -0.213180   \n",
       "\n",
       "                       time_spend_company  work_accident  \\\n",
       "emp_id                          -0.001109      -0.024144   \n",
       "satisfaction_level               0.446440       0.005864   \n",
       "last_evaluation                  0.783873      -0.001875   \n",
       "number_project                   0.601989      -0.008401   \n",
       "average_montly_hours             0.664011      -0.009048   \n",
       "time_spend_company               1.000000       0.005222   \n",
       "work_accident                    0.005222       1.000000   \n",
       "promotion_last_5years           -0.045888       0.056214   \n",
       "satisfaction                     0.328817       0.007676   \n",
       "\n",
       "                       promotion_last_5years  satisfaction  \n",
       "emp_id                              0.016686      0.006685  \n",
       "satisfaction_level                  0.005516      0.958180  \n",
       "last_evaluation                    -0.047992      0.043592  \n",
       "number_project                     -0.032301     -0.347915  \n",
       "average_montly_hours               -0.035475     -0.213180  \n",
       "time_spend_company                 -0.045888      0.328817  \n",
       "work_accident                       0.056214      0.007676  \n",
       "promotion_last_5years               1.000000      0.009282  \n",
       "satisfaction                        0.009282      1.000000  "
      ]
     },
     "metadata": {},
     "output_type": "display_data"
    },
    {
     "data": {
      "image/png": "[encoded data removed]",
      "text/plain": [
       "<Figure size 792x432 with 2 Axes>"
      ]
     },
     "metadata": {
      "needs_background": "light"
     },
     "output_type": "display_data"
    }
   ],
   "source": [
    "#correlation in the columns\n",
    "plt.figure(figsize=(11,6))\n",
    "corr = left_emp.corr()\n",
    "display(corr)\n",
    "sns.heatmap(corr,annot = True)\n",
    "plt.title(\"Correlation of the Variables (Left_Employees)\")\n",
    "plt.show()\n",
    "# For the heatmap below, it actually means than if there is a negative relationship between two variable, one varaible increases while the other decreases\n",
    "#For positive correlation, both variable increase "
   ]
  },
  {
   "cell_type": "code",
   "execution_count": null,
   "metadata": {},
   "outputs": [],
   "source": []
  },
  {
   "cell_type": "markdown",
   "metadata": {},
   "source": [
    "# Existing Employees "
   ]
  },
  {
   "cell_type": "markdown",
   "metadata": {},
   "source": [
    "## Data Understanding "
   ]
  },
  {
   "cell_type": "code",
   "execution_count": 177,
   "metadata": {},
   "outputs": [
    {
     "name": "stdout",
     "output_type": "stream",
     "text": [
      "<class 'pandas.core.frame.DataFrame'>\n",
      "RangeIndex: 11428 entries, 0 to 11427\n",
      "Data columns (total 10 columns):\n",
      "Emp ID                   11428 non-null int64\n",
      "satisfaction_level       11428 non-null float64\n",
      "last_evaluation          11428 non-null float64\n",
      "number_project           11428 non-null int64\n",
      "average_montly_hours     11428 non-null int64\n",
      "time_spend_company       11428 non-null int64\n",
      "Work_accident            11428 non-null int64\n",
      "promotion_last_5years    11428 non-null int64\n",
      "dept                     11428 non-null object\n",
      "salary                   11428 non-null object\n",
      "dtypes: float64(2), int64(6), object(2)\n",
      "memory usage: 892.9+ KB\n"
     ]
    }
   ],
   "source": [
    "#data types \n",
    "# total rows and columns \n",
    "existing_emp.info()\n",
    "\n",
    "#there exists float64(2), int64(6), object(2) \n",
    "#10 columns and 11428 rows"
   ]
  },
  {
   "cell_type": "code",
   "execution_count": 178,
   "metadata": {},
   "outputs": [
    {
     "data": {
      "text/plain": [
       "11428"
      ]
     },
     "execution_count": 178,
     "metadata": {},
     "output_type": "execute_result"
    }
   ],
   "source": [
    "#Check if the id is duplicated\n",
    "existing_emp[\"Emp ID\"].nunique()\n",
    "\n",
    "#all the ids are unique "
   ]
  },
  {
   "cell_type": "code",
   "execution_count": 179,
   "metadata": {},
   "outputs": [
    {
     "data": {
      "text/html": [
       "<div>\n",
       "<style scoped>\n",
       "    .dataframe tbody tr th:only-of-type {\n",
       "        vertical-align: middle;\n",
       "    }\n",
       "\n",
       "    .dataframe tbody tr th {\n",
       "        vertical-align: top;\n",
       "    }\n",
       "\n",
       "    .dataframe thead th {\n",
       "        text-align: right;\n",
       "    }\n",
       "</style>\n",
       "<table border=\"1\" class=\"dataframe\">\n",
       "  <thead>\n",
       "    <tr style=\"text-align: right;\">\n",
       "      <th></th>\n",
       "      <th>Emp ID</th>\n",
       "      <th>satisfaction_level</th>\n",
       "      <th>last_evaluation</th>\n",
       "      <th>number_project</th>\n",
       "      <th>average_montly_hours</th>\n",
       "      <th>time_spend_company</th>\n",
       "      <th>Work_accident</th>\n",
       "      <th>promotion_last_5years</th>\n",
       "    </tr>\n",
       "  </thead>\n",
       "  <tbody>\n",
       "    <tr>\n",
       "      <td>count</td>\n",
       "      <td>11428.000000</td>\n",
       "      <td>11428.000000</td>\n",
       "      <td>11428.000000</td>\n",
       "      <td>11428.000000</td>\n",
       "      <td>11428.000000</td>\n",
       "      <td>11428.000000</td>\n",
       "      <td>11428.000000</td>\n",
       "      <td>11428.000000</td>\n",
       "    </tr>\n",
       "    <tr>\n",
       "      <td>mean</td>\n",
       "      <td>7812.340742</td>\n",
       "      <td>0.666810</td>\n",
       "      <td>0.715473</td>\n",
       "      <td>3.786664</td>\n",
       "      <td>199.060203</td>\n",
       "      <td>3.380032</td>\n",
       "      <td>0.175009</td>\n",
       "      <td>0.026251</td>\n",
       "    </tr>\n",
       "    <tr>\n",
       "      <td>std</td>\n",
       "      <td>3453.947461</td>\n",
       "      <td>0.217104</td>\n",
       "      <td>0.162005</td>\n",
       "      <td>0.979884</td>\n",
       "      <td>45.682731</td>\n",
       "      <td>1.562348</td>\n",
       "      <td>0.379991</td>\n",
       "      <td>0.159889</td>\n",
       "    </tr>\n",
       "    <tr>\n",
       "      <td>min</td>\n",
       "      <td>2001.000000</td>\n",
       "      <td>0.120000</td>\n",
       "      <td>0.360000</td>\n",
       "      <td>2.000000</td>\n",
       "      <td>96.000000</td>\n",
       "      <td>2.000000</td>\n",
       "      <td>0.000000</td>\n",
       "      <td>0.000000</td>\n",
       "    </tr>\n",
       "    <tr>\n",
       "      <td>25%</td>\n",
       "      <td>4857.750000</td>\n",
       "      <td>0.540000</td>\n",
       "      <td>0.580000</td>\n",
       "      <td>3.000000</td>\n",
       "      <td>162.000000</td>\n",
       "      <td>2.000000</td>\n",
       "      <td>0.000000</td>\n",
       "      <td>0.000000</td>\n",
       "    </tr>\n",
       "    <tr>\n",
       "      <td>50%</td>\n",
       "      <td>7714.500000</td>\n",
       "      <td>0.690000</td>\n",
       "      <td>0.710000</td>\n",
       "      <td>4.000000</td>\n",
       "      <td>198.000000</td>\n",
       "      <td>3.000000</td>\n",
       "      <td>0.000000</td>\n",
       "      <td>0.000000</td>\n",
       "    </tr>\n",
       "    <tr>\n",
       "      <td>75%</td>\n",
       "      <td>10571.250000</td>\n",
       "      <td>0.840000</td>\n",
       "      <td>0.850000</td>\n",
       "      <td>4.000000</td>\n",
       "      <td>238.000000</td>\n",
       "      <td>4.000000</td>\n",
       "      <td>0.000000</td>\n",
       "      <td>0.000000</td>\n",
       "    </tr>\n",
       "    <tr>\n",
       "      <td>max</td>\n",
       "      <td>14211.000000</td>\n",
       "      <td>1.000000</td>\n",
       "      <td>1.000000</td>\n",
       "      <td>6.000000</td>\n",
       "      <td>287.000000</td>\n",
       "      <td>10.000000</td>\n",
       "      <td>1.000000</td>\n",
       "      <td>1.000000</td>\n",
       "    </tr>\n",
       "  </tbody>\n",
       "</table>\n",
       "</div>"
      ],
      "text/plain": [
       "             Emp ID  satisfaction_level  last_evaluation  number_project  \\\n",
       "count  11428.000000        11428.000000     11428.000000    11428.000000   \n",
       "mean    7812.340742            0.666810         0.715473        3.786664   \n",
       "std     3453.947461            0.217104         0.162005        0.979884   \n",
       "min     2001.000000            0.120000         0.360000        2.000000   \n",
       "25%     4857.750000            0.540000         0.580000        3.000000   \n",
       "50%     7714.500000            0.690000         0.710000        4.000000   \n",
       "75%    10571.250000            0.840000         0.850000        4.000000   \n",
       "max    14211.000000            1.000000         1.000000        6.000000   \n",
       "\n",
       "       average_montly_hours  time_spend_company  Work_accident  \\\n",
       "count          11428.000000        11428.000000   11428.000000   \n",
       "mean             199.060203            3.380032       0.175009   \n",
       "std               45.682731            1.562348       0.379991   \n",
       "min               96.000000            2.000000       0.000000   \n",
       "25%              162.000000            2.000000       0.000000   \n",
       "50%              198.000000            3.000000       0.000000   \n",
       "75%              238.000000            4.000000       0.000000   \n",
       "max              287.000000           10.000000       1.000000   \n",
       "\n",
       "       promotion_last_5years  \n",
       "count           11428.000000  \n",
       "mean                0.026251  \n",
       "std                 0.159889  \n",
       "min                 0.000000  \n",
       "25%                 0.000000  \n",
       "50%                 0.000000  \n",
       "75%                 0.000000  \n",
       "max                 1.000000  "
      ]
     },
     "execution_count": 179,
     "metadata": {},
     "output_type": "execute_result"
    }
   ],
   "source": [
    "#summary of the data\n",
    "existing_emp.describe()"
   ]
  },
  {
   "cell_type": "markdown",
   "metadata": {},
   "source": [
    "##  Data Cleaning "
   ]
  },
  {
   "cell_type": "code",
   "execution_count": 180,
   "metadata": {},
   "outputs": [
    {
     "data": {
      "text/html": [
       "<div>\n",
       "<style scoped>\n",
       "    .dataframe tbody tr th:only-of-type {\n",
       "        vertical-align: middle;\n",
       "    }\n",
       "\n",
       "    .dataframe tbody tr th {\n",
       "        vertical-align: top;\n",
       "    }\n",
       "\n",
       "    .dataframe thead th {\n",
       "        text-align: right;\n",
       "    }\n",
       "</style>\n",
       "<table border=\"1\" class=\"dataframe\">\n",
       "  <thead>\n",
       "    <tr style=\"text-align: right;\">\n",
       "      <th></th>\n",
       "      <th>Emp ID</th>\n",
       "      <th>satisfaction_level</th>\n",
       "      <th>last_evaluation</th>\n",
       "      <th>number_project</th>\n",
       "      <th>average_montly_hours</th>\n",
       "      <th>time_spend_company</th>\n",
       "      <th>Work_accident</th>\n",
       "      <th>promotion_last_5years</th>\n",
       "    </tr>\n",
       "  </thead>\n",
       "  <tbody>\n",
       "    <tr>\n",
       "      <td>0</td>\n",
       "      <td>2001</td>\n",
       "      <td>0.58</td>\n",
       "      <td>0.74</td>\n",
       "      <td>4</td>\n",
       "      <td>215</td>\n",
       "      <td>3</td>\n",
       "      <td>0</td>\n",
       "      <td>0</td>\n",
       "    </tr>\n",
       "    <tr>\n",
       "      <td>1</td>\n",
       "      <td>2002</td>\n",
       "      <td>0.82</td>\n",
       "      <td>0.67</td>\n",
       "      <td>2</td>\n",
       "      <td>202</td>\n",
       "      <td>3</td>\n",
       "      <td>0</td>\n",
       "      <td>0</td>\n",
       "    </tr>\n",
       "    <tr>\n",
       "      <td>2</td>\n",
       "      <td>2003</td>\n",
       "      <td>0.45</td>\n",
       "      <td>0.69</td>\n",
       "      <td>5</td>\n",
       "      <td>193</td>\n",
       "      <td>3</td>\n",
       "      <td>0</td>\n",
       "      <td>0</td>\n",
       "    </tr>\n",
       "    <tr>\n",
       "      <td>3</td>\n",
       "      <td>2004</td>\n",
       "      <td>0.78</td>\n",
       "      <td>0.82</td>\n",
       "      <td>5</td>\n",
       "      <td>247</td>\n",
       "      <td>3</td>\n",
       "      <td>0</td>\n",
       "      <td>0</td>\n",
       "    </tr>\n",
       "    <tr>\n",
       "      <td>4</td>\n",
       "      <td>2005</td>\n",
       "      <td>0.49</td>\n",
       "      <td>0.60</td>\n",
       "      <td>3</td>\n",
       "      <td>214</td>\n",
       "      <td>2</td>\n",
       "      <td>0</td>\n",
       "      <td>0</td>\n",
       "    </tr>\n",
       "  </tbody>\n",
       "</table>\n",
       "</div>"
      ],
      "text/plain": [
       "   Emp ID  satisfaction_level  last_evaluation  number_project  \\\n",
       "0    2001                0.58             0.74               4   \n",
       "1    2002                0.82             0.67               2   \n",
       "2    2003                0.45             0.69               5   \n",
       "3    2004                0.78             0.82               5   \n",
       "4    2005                0.49             0.60               3   \n",
       "\n",
       "   average_montly_hours  time_spend_company  Work_accident  \\\n",
       "0                   215                   3              0   \n",
       "1                   202                   3              0   \n",
       "2                   193                   3              0   \n",
       "3                   247                   3              0   \n",
       "4                   214                   2              0   \n",
       "\n",
       "   promotion_last_5years  \n",
       "0                      0  \n",
       "1                      0  \n",
       "2                      0  \n",
       "3                      0  \n",
       "4                      0  "
      ]
     },
     "execution_count": 180,
     "metadata": {},
     "output_type": "execute_result"
    }
   ],
   "source": [
    "# Validity\n",
    "#Check presence of outliers in the dataset \n",
    "# create a dataframe with numerical values \n",
    "df_num = existing_emp.select_dtypes([\"float64\", \"int64\"])\n",
    "#print \n",
    "df_num.head()"
   ]
  },
  {
   "cell_type": "code",
   "execution_count": 181,
   "metadata": {},
   "outputs": [
    {
     "data": {
      "text/plain": [
       "0"
      ]
     },
     "execution_count": 181,
     "metadata": {},
     "output_type": "execute_result"
    }
   ],
   "source": [
    "#Consistency\n",
    "existing_emp.duplicated().sum()"
   ]
  },
  {
   "cell_type": "code",
   "execution_count": 182,
   "metadata": {},
   "outputs": [
    {
     "data": {
      "text/plain": [
       "Emp ID                   0\n",
       "satisfaction_level       0\n",
       "last_evaluation          0\n",
       "number_project           0\n",
       "average_montly_hours     0\n",
       "time_spend_company       0\n",
       "Work_accident            0\n",
       "promotion_last_5years    0\n",
       "dept                     0\n",
       "salary                   0\n",
       "dtype: int64"
      ]
     },
     "execution_count": 182,
     "metadata": {},
     "output_type": "execute_result"
    }
   ],
   "source": [
    "#Completeness\n",
    "existing_emp.isnull().sum()\n",
    "# all the columns are complete"
   ]
  },
  {
   "cell_type": "code",
   "execution_count": 183,
   "metadata": {},
   "outputs": [
    {
     "data": {
      "text/html": [
       "<div>\n",
       "<style scoped>\n",
       "    .dataframe tbody tr th:only-of-type {\n",
       "        vertical-align: middle;\n",
       "    }\n",
       "\n",
       "    .dataframe tbody tr th {\n",
       "        vertical-align: top;\n",
       "    }\n",
       "\n",
       "    .dataframe thead th {\n",
       "        text-align: right;\n",
       "    }\n",
       "</style>\n",
       "<table border=\"1\" class=\"dataframe\">\n",
       "  <thead>\n",
       "    <tr style=\"text-align: right;\">\n",
       "      <th></th>\n",
       "      <th>emp_id</th>\n",
       "      <th>satisfaction_level</th>\n",
       "      <th>last_evaluation</th>\n",
       "      <th>number_project</th>\n",
       "      <th>average_montly_hours</th>\n",
       "      <th>time_spend_company</th>\n",
       "      <th>work_accident</th>\n",
       "      <th>promotion_last_5years</th>\n",
       "      <th>dept</th>\n",
       "      <th>salary</th>\n",
       "    </tr>\n",
       "  </thead>\n",
       "  <tbody>\n",
       "    <tr>\n",
       "      <td>0</td>\n",
       "      <td>2001</td>\n",
       "      <td>0.58</td>\n",
       "      <td>0.74</td>\n",
       "      <td>4</td>\n",
       "      <td>215</td>\n",
       "      <td>3</td>\n",
       "      <td>0</td>\n",
       "      <td>0</td>\n",
       "      <td>sales</td>\n",
       "      <td>low</td>\n",
       "    </tr>\n",
       "    <tr>\n",
       "      <td>1</td>\n",
       "      <td>2002</td>\n",
       "      <td>0.82</td>\n",
       "      <td>0.67</td>\n",
       "      <td>2</td>\n",
       "      <td>202</td>\n",
       "      <td>3</td>\n",
       "      <td>0</td>\n",
       "      <td>0</td>\n",
       "      <td>sales</td>\n",
       "      <td>low</td>\n",
       "    </tr>\n",
       "    <tr>\n",
       "      <td>2</td>\n",
       "      <td>2003</td>\n",
       "      <td>0.45</td>\n",
       "      <td>0.69</td>\n",
       "      <td>5</td>\n",
       "      <td>193</td>\n",
       "      <td>3</td>\n",
       "      <td>0</td>\n",
       "      <td>0</td>\n",
       "      <td>sales</td>\n",
       "      <td>low</td>\n",
       "    </tr>\n",
       "    <tr>\n",
       "      <td>3</td>\n",
       "      <td>2004</td>\n",
       "      <td>0.78</td>\n",
       "      <td>0.82</td>\n",
       "      <td>5</td>\n",
       "      <td>247</td>\n",
       "      <td>3</td>\n",
       "      <td>0</td>\n",
       "      <td>0</td>\n",
       "      <td>sales</td>\n",
       "      <td>low</td>\n",
       "    </tr>\n",
       "    <tr>\n",
       "      <td>4</td>\n",
       "      <td>2005</td>\n",
       "      <td>0.49</td>\n",
       "      <td>0.60</td>\n",
       "      <td>3</td>\n",
       "      <td>214</td>\n",
       "      <td>2</td>\n",
       "      <td>0</td>\n",
       "      <td>0</td>\n",
       "      <td>sales</td>\n",
       "      <td>low</td>\n",
       "    </tr>\n",
       "  </tbody>\n",
       "</table>\n",
       "</div>"
      ],
      "text/plain": [
       "   emp_id  satisfaction_level  last_evaluation  number_project  \\\n",
       "0    2001                0.58             0.74               4   \n",
       "1    2002                0.82             0.67               2   \n",
       "2    2003                0.45             0.69               5   \n",
       "3    2004                0.78             0.82               5   \n",
       "4    2005                0.49             0.60               3   \n",
       "\n",
       "   average_montly_hours  time_spend_company  work_accident  \\\n",
       "0                   215                   3              0   \n",
       "1                   202                   3              0   \n",
       "2                   193                   3              0   \n",
       "3                   247                   3              0   \n",
       "4                   214                   2              0   \n",
       "\n",
       "   promotion_last_5years   dept salary  \n",
       "0                      0  sales    low  \n",
       "1                      0  sales    low  \n",
       "2                      0  sales    low  \n",
       "3                      0  sales    low  \n",
       "4                      0  sales    low  "
      ]
     },
     "execution_count": 183,
     "metadata": {},
     "output_type": "execute_result"
    }
   ],
   "source": [
    "#Uniformity\n",
    "existing_emp.columns = existing_emp.columns.str.strip().str.lower().str.replace(' ', '_').str.replace('(', '').str.replace(')', '')\n",
    "existing_emp.head()\n",
    "\n",
    "#all  the column heads have all being put in lowercase and where there was anyy spaces, its being replaced "
   ]
  },
  {
   "cell_type": "markdown",
   "metadata": {},
   "source": [
    "##  Exploratory Data Analysis"
   ]
  },
  {
   "cell_type": "markdown",
   "metadata": {},
   "source": [
    "### Univariate Analysis\n"
   ]
  },
  {
   "cell_type": "code",
   "execution_count": 184,
   "metadata": {},
   "outputs": [
    {
     "data": {
      "image/png": "[encoded data removed]",
      "text/plain": [
       "<Figure size 792x576 with 1 Axes>"
      ]
     },
     "metadata": {
      "needs_background": "light"
     },
     "output_type": "display_data"
    }
   ],
   "source": [
    "#categorical = ['dept']\n",
    "plt.figure(figsize=(11,8))\n",
    "sns.countplot(existing_emp.dept)\n",
    "plt.ylabel(\"Number of people in the departments\")\n",
    "plt.xlabel(\"Departments\")\n",
    "plt.title(\"Total number of people per department - Existing Employee\")\n",
    "plt.show()"
   ]
  },
  {
   "cell_type": "markdown",
   "metadata": {},
   "source": [
    "Majority of the employeed are in the sales department followed by the technical department."
   ]
  },
  {
   "cell_type": "code",
   "execution_count": 185,
   "metadata": {},
   "outputs": [
    {
     "data": {
      "image/png": "[encoded data removed]",
      "text/plain": [
       "<Figure size 792x576 with 1 Axes>"
      ]
     },
     "metadata": {
      "needs_background": "light"
     },
     "output_type": "display_data"
    }
   ],
   "source": [
    "#Salary\n",
    "plt.figure(figsize=(11,8))\n",
    "sns.countplot(existing_emp.salary)\n",
    "plt.ylabel(\"Total Salary\")\n",
    "plt.xlabel(\"Range of salary\")\n",
    "plt.title(\"Salary- Existing Employee\")\n",
    "plt.show()\n",
    "#the salary of majority of the employees is either low or medium"
   ]
  },
  {
   "cell_type": "markdown",
   "metadata": {},
   "source": [
    "From the diagram above, we can make the assumption that most of the people whose salary is high have top positions in the company hence the small number.\n",
    "\n",
    "The number of people earning low salary ==  number of people earning medium salary"
   ]
  },
  {
   "cell_type": "code",
   "execution_count": 186,
   "metadata": {},
   "outputs": [
    {
     "data": {
      "image/png": "[encoded data removed]",
      "text/plain": [
       "<Figure size 576x576 with 1 Axes>"
      ]
     },
     "metadata": {
      "needs_background": "light"
     },
     "output_type": "display_data"
    }
   ],
   "source": [
    "#satisfaction of the employees \n",
    "plt.figure(figsize=(8,8))\n",
    "plt.hist(existing_emp[\"satisfaction_level\"],bins = 30,color=\"maroon\")\n",
    "plt.xlabel(\"Satisfaction levels\")\n",
    "plt.title(\"Satisfaction in the company- Existing Employee\")\n",
    "plt.show()"
   ]
  },
  {
   "cell_type": "markdown",
   "metadata": {},
   "source": [
    "Majority of the current employees have a satifaction level of greater than 50%"
   ]
  },
  {
   "cell_type": "code",
   "execution_count": 187,
   "metadata": {
    "scrolled": false
   },
   "outputs": [
    {
     "data": {
      "image/png": "[encoded data removed]",
      "text/plain": [
       "<Figure size 576x576 with 1 Axes>"
      ]
     },
     "metadata": {
      "needs_background": "light"
     },
     "output_type": "display_data"
    }
   ],
   "source": [
    "#Evaluation\n",
    "plt.figure(figsize=(8,8))\n",
    "plt.hist(existing_emp[\"last_evaluation\"],bins = 30,color=\"maroon\")\n",
    "plt.xlabel(\"last_evaluation\")\n",
    "plt.title(\"Evaluation in the company- Existing Employee\")\n",
    "plt.show()"
   ]
  },
  {
   "cell_type": "code",
   "execution_count": 188,
   "metadata": {},
   "outputs": [
    {
     "data": {
      "image/png": "[encoded data removed]",
      "text/plain": [
       "<Figure size 576x576 with 1 Axes>"
      ]
     },
     "metadata": {
      "needs_background": "light"
     },
     "output_type": "display_data"
    }
   ],
   "source": [
    "#Number of projects\n",
    "plt.figure(figsize=(8,8))\n",
    "plt.hist(existing_emp[\"number_project\"],bins = 30,color=\"maroon\")\n",
    "plt.xlabel(\"number_project\")\n",
    "plt.title(\"Total number of projects per employee- Existing Employee\")\n",
    "plt.show()"
   ]
  },
  {
   "cell_type": "markdown",
   "metadata": {},
   "source": [
    "Most of the current employees work either 3 0r 4 projects "
   ]
  },
  {
   "cell_type": "code",
   "execution_count": 189,
   "metadata": {},
   "outputs": [
    {
     "data": {
      "image/png": "[encoded data removed]",
      "text/plain": [
       "<Figure size 576x576 with 1 Axes>"
      ]
     },
     "metadata": {
      "needs_background": "light"
     },
     "output_type": "display_data"
    }
   ],
   "source": [
    "#Average hours\n",
    "plt.figure(figsize=(8,8))\n",
    "plt.hist(existing_emp[\"average_montly_hours\"],bins = 30,color=\"maroon\")\n",
    "plt.xlabel(\"average_montly_hours\")\n",
    "plt.title(\"Average monthly hours per employee- Existing Employee\")\n",
    "plt.show()"
   ]
  },
  {
   "cell_type": "code",
   "execution_count": 190,
   "metadata": {},
   "outputs": [
    {
     "data": {
      "image/png": "[encoded data removed]",
      "text/plain": [
       "<Figure size 576x576 with 1 Axes>"
      ]
     },
     "metadata": {
      "needs_background": "light"
     },
     "output_type": "display_data"
    }
   ],
   "source": [
    "#Time spent in the company\n",
    "plt.figure(figsize=(8,8))\n",
    "plt.hist(existing_emp[\"time_spend_company\"],bins = 30,color=\"maroon\")\n",
    "plt.xlabel(\"time_spend_company\")\n",
    "plt.title(\"Years spent in the company- Existing Employee\")\n",
    "plt.show()"
   ]
  },
  {
   "cell_type": "code",
   "execution_count": 191,
   "metadata": {},
   "outputs": [
    {
     "data": {
      "image/png": "[encoded data removed]",
      "text/plain": [
       "<Figure size 576x576 with 1 Axes>"
      ]
     },
     "metadata": {
      "needs_background": "light"
     },
     "output_type": "display_data"
    }
   ],
   "source": [
    "#Work Accident\n",
    "plt.figure(figsize=(8,8))\n",
    "plt.hist(existing_emp[\"work_accident\"],color=\"maroon\")\n",
    "plt.xlabel(\"work_accident\")\n",
    "plt.title(\"Work accident in the company- Existing Employee\")\n",
    "plt.show()"
   ]
  },
  {
   "cell_type": "code",
   "execution_count": 192,
   "metadata": {},
   "outputs": [
    {
     "data": {
      "image/png": "[encoded data removed]",
      "text/plain": [
       "<Figure size 576x576 with 1 Axes>"
      ]
     },
     "metadata": {
      "needs_background": "light"
     },
     "output_type": "display_data"
    }
   ],
   "source": [
    "#promotion in the past 5 years\n",
    "plt.figure(figsize=(8,8))\n",
    "plt.hist(existing_emp[\"promotion_last_5years\"],bins = 30,color=\"maroon\")\n",
    "plt.xlabel(\"promotion_last_5years\")\n",
    "plt.title(\"Promotion in the last 5 years- Existing Employee\")\n",
    "plt.show()"
   ]
  },
  {
   "cell_type": "markdown",
   "metadata": {},
   "source": [
    "Most of the employees have not been given any promotions in the last 5 years "
   ]
  },
  {
   "cell_type": "markdown",
   "metadata": {},
   "source": [
    "### Bivariate Analysis"
   ]
  },
  {
   "cell_type": "markdown",
   "metadata": {},
   "source": [
    "Since we have an understanding of all the variables, we shall compare different variables to check if they could cause attrition "
   ]
  },
  {
   "cell_type": "markdown",
   "metadata": {},
   "source": [
    "Department vs Satisfaction\n",
    "\n",
    "Lets find out which department has more satisfied employees."
   ]
  },
  {
   "cell_type": "code",
   "execution_count": 193,
   "metadata": {},
   "outputs": [
    {
     "data": {
      "text/plain": [
       "array([0.58, 0.82, 0.45, 0.78, 0.49, 0.36, 0.54, 0.99, 0.5 , 0.74, 0.56,\n",
       "       0.34, 0.48, 0.73, 0.59, 0.81, 0.9 , 0.41, 0.89, 0.79, 0.98, 0.75,\n",
       "       1.  , 0.24, 0.84, 0.92, 0.61, 0.85, 0.67, 0.76, 0.19, 0.51, 0.52,\n",
       "       0.71, 0.33, 0.87, 0.68, 0.7 , 0.63, 0.72, 0.77, 0.86, 0.15, 0.93,\n",
       "       0.62, 0.53, 0.97, 0.39, 0.69, 0.25, 0.12, 0.57, 0.6 , 0.2 , 0.94,\n",
       "       0.17, 0.35, 0.42, 0.64, 0.91, 0.88, 0.96, 0.27, 0.65, 0.8 , 0.38,\n",
       "       0.26, 0.55, 0.46, 0.13, 0.21, 0.22, 0.83, 0.18, 0.14, 0.16, 0.43,\n",
       "       0.28, 0.95, 0.47, 0.32, 0.29, 0.4 , 0.66, 0.3 , 0.37, 0.44, 0.31,\n",
       "       0.23])"
      ]
     },
     "execution_count": 193,
     "metadata": {},
     "output_type": "execute_result"
    }
   ],
   "source": [
    "#checking the satisfaction levels of the employees \n",
    "existing_emp[\"satisfaction_level\"].unique()"
   ]
  },
  {
   "cell_type": "markdown",
   "metadata": {},
   "source": [
    "#### Feature Engineering"
   ]
  },
  {
   "cell_type": "code",
   "execution_count": 194,
   "metadata": {},
   "outputs": [],
   "source": [
    "# Feature Engineering\n",
    "def satisfaction(df,variable_1):\n",
    "  variable2_count = 0\n",
    "  for ind ,row in df.iterrows():\n",
    "    if row[variable_1] <= 0.25:\n",
    "      df.loc[ind,'satisfaction'] = 0.25\n",
    "    \n",
    "    elif ((row[variable_1] > 0.25) & (row[variable_1] < 0.75)):\n",
    "      df.loc[ind,'satisfaction'] = 0.50\n",
    "    \n",
    "    elif row[variable_1] >= 0.75:\n",
    "        df.loc[ind,'satisfaction'] = 0.75\n",
    "        \n",
    "    else:\n",
    "      df.loc[ind,'satisfaction'] = 0"
   ]
  },
  {
   "cell_type": "code",
   "execution_count": 195,
   "metadata": {},
   "outputs": [],
   "source": [
    "#execute the function\n",
    "satisfaction(existing_emp,\"satisfaction_level\")"
   ]
  },
  {
   "cell_type": "code",
   "execution_count": 196,
   "metadata": {},
   "outputs": [
    {
     "data": {
      "text/html": [
       "<div>\n",
       "<style scoped>\n",
       "    .dataframe tbody tr th:only-of-type {\n",
       "        vertical-align: middle;\n",
       "    }\n",
       "\n",
       "    .dataframe tbody tr th {\n",
       "        vertical-align: top;\n",
       "    }\n",
       "\n",
       "    .dataframe thead th {\n",
       "        text-align: right;\n",
       "    }\n",
       "</style>\n",
       "<table border=\"1\" class=\"dataframe\">\n",
       "  <thead>\n",
       "    <tr style=\"text-align: right;\">\n",
       "      <th></th>\n",
       "      <th>emp_id</th>\n",
       "      <th>satisfaction_level</th>\n",
       "      <th>last_evaluation</th>\n",
       "      <th>number_project</th>\n",
       "      <th>average_montly_hours</th>\n",
       "      <th>time_spend_company</th>\n",
       "      <th>work_accident</th>\n",
       "      <th>promotion_last_5years</th>\n",
       "      <th>dept</th>\n",
       "      <th>salary</th>\n",
       "      <th>satisfaction</th>\n",
       "    </tr>\n",
       "  </thead>\n",
       "  <tbody>\n",
       "    <tr>\n",
       "      <td>8337</td>\n",
       "      <td>10338</td>\n",
       "      <td>0.90</td>\n",
       "      <td>0.66</td>\n",
       "      <td>3</td>\n",
       "      <td>256</td>\n",
       "      <td>4</td>\n",
       "      <td>0</td>\n",
       "      <td>0</td>\n",
       "      <td>hr</td>\n",
       "      <td>low</td>\n",
       "      <td>0.75</td>\n",
       "    </tr>\n",
       "    <tr>\n",
       "      <td>6764</td>\n",
       "      <td>8765</td>\n",
       "      <td>0.49</td>\n",
       "      <td>0.80</td>\n",
       "      <td>4</td>\n",
       "      <td>161</td>\n",
       "      <td>2</td>\n",
       "      <td>0</td>\n",
       "      <td>0</td>\n",
       "      <td>IT</td>\n",
       "      <td>medium</td>\n",
       "      <td>0.50</td>\n",
       "    </tr>\n",
       "    <tr>\n",
       "      <td>2802</td>\n",
       "      <td>4803</td>\n",
       "      <td>0.95</td>\n",
       "      <td>0.53</td>\n",
       "      <td>4</td>\n",
       "      <td>263</td>\n",
       "      <td>3</td>\n",
       "      <td>0</td>\n",
       "      <td>0</td>\n",
       "      <td>IT</td>\n",
       "      <td>low</td>\n",
       "      <td>0.75</td>\n",
       "    </tr>\n",
       "    <tr>\n",
       "      <td>2357</td>\n",
       "      <td>4358</td>\n",
       "      <td>0.58</td>\n",
       "      <td>0.93</td>\n",
       "      <td>5</td>\n",
       "      <td>235</td>\n",
       "      <td>2</td>\n",
       "      <td>0</td>\n",
       "      <td>0</td>\n",
       "      <td>management</td>\n",
       "      <td>low</td>\n",
       "      <td>0.50</td>\n",
       "    </tr>\n",
       "    <tr>\n",
       "      <td>5013</td>\n",
       "      <td>7014</td>\n",
       "      <td>0.63</td>\n",
       "      <td>0.67</td>\n",
       "      <td>5</td>\n",
       "      <td>250</td>\n",
       "      <td>2</td>\n",
       "      <td>0</td>\n",
       "      <td>0</td>\n",
       "      <td>product_mng</td>\n",
       "      <td>low</td>\n",
       "      <td>0.50</td>\n",
       "    </tr>\n",
       "    <tr>\n",
       "      <td>3201</td>\n",
       "      <td>5202</td>\n",
       "      <td>0.36</td>\n",
       "      <td>0.73</td>\n",
       "      <td>3</td>\n",
       "      <td>187</td>\n",
       "      <td>3</td>\n",
       "      <td>0</td>\n",
       "      <td>0</td>\n",
       "      <td>sales</td>\n",
       "      <td>medium</td>\n",
       "      <td>0.50</td>\n",
       "    </tr>\n",
       "    <tr>\n",
       "      <td>11341</td>\n",
       "      <td>14125</td>\n",
       "      <td>0.96</td>\n",
       "      <td>0.68</td>\n",
       "      <td>3</td>\n",
       "      <td>206</td>\n",
       "      <td>3</td>\n",
       "      <td>0</td>\n",
       "      <td>0</td>\n",
       "      <td>sales</td>\n",
       "      <td>medium</td>\n",
       "      <td>0.75</td>\n",
       "    </tr>\n",
       "    <tr>\n",
       "      <td>8301</td>\n",
       "      <td>10302</td>\n",
       "      <td>0.65</td>\n",
       "      <td>0.54</td>\n",
       "      <td>6</td>\n",
       "      <td>181</td>\n",
       "      <td>4</td>\n",
       "      <td>0</td>\n",
       "      <td>0</td>\n",
       "      <td>RandD</td>\n",
       "      <td>low</td>\n",
       "      <td>0.50</td>\n",
       "    </tr>\n",
       "    <tr>\n",
       "      <td>4845</td>\n",
       "      <td>6846</td>\n",
       "      <td>0.87</td>\n",
       "      <td>0.72</td>\n",
       "      <td>3</td>\n",
       "      <td>201</td>\n",
       "      <td>3</td>\n",
       "      <td>0</td>\n",
       "      <td>0</td>\n",
       "      <td>support</td>\n",
       "      <td>low</td>\n",
       "      <td>0.75</td>\n",
       "    </tr>\n",
       "    <tr>\n",
       "      <td>517</td>\n",
       "      <td>2518</td>\n",
       "      <td>0.55</td>\n",
       "      <td>0.63</td>\n",
       "      <td>5</td>\n",
       "      <td>184</td>\n",
       "      <td>4</td>\n",
       "      <td>0</td>\n",
       "      <td>0</td>\n",
       "      <td>marketing</td>\n",
       "      <td>medium</td>\n",
       "      <td>0.50</td>\n",
       "    </tr>\n",
       "  </tbody>\n",
       "</table>\n",
       "</div>"
      ],
      "text/plain": [
       "       emp_id  satisfaction_level  last_evaluation  number_project  \\\n",
       "8337    10338                0.90             0.66               3   \n",
       "6764     8765                0.49             0.80               4   \n",
       "2802     4803                0.95             0.53               4   \n",
       "2357     4358                0.58             0.93               5   \n",
       "5013     7014                0.63             0.67               5   \n",
       "3201     5202                0.36             0.73               3   \n",
       "11341   14125                0.96             0.68               3   \n",
       "8301    10302                0.65             0.54               6   \n",
       "4845     6846                0.87             0.72               3   \n",
       "517      2518                0.55             0.63               5   \n",
       "\n",
       "       average_montly_hours  time_spend_company  work_accident  \\\n",
       "8337                    256                   4              0   \n",
       "6764                    161                   2              0   \n",
       "2802                    263                   3              0   \n",
       "2357                    235                   2              0   \n",
       "5013                    250                   2              0   \n",
       "3201                    187                   3              0   \n",
       "11341                   206                   3              0   \n",
       "8301                    181                   4              0   \n",
       "4845                    201                   3              0   \n",
       "517                     184                   4              0   \n",
       "\n",
       "       promotion_last_5years         dept  salary  satisfaction  \n",
       "8337                       0           hr     low          0.75  \n",
       "6764                       0           IT  medium          0.50  \n",
       "2802                       0           IT     low          0.75  \n",
       "2357                       0   management     low          0.50  \n",
       "5013                       0  product_mng     low          0.50  \n",
       "3201                       0        sales  medium          0.50  \n",
       "11341                      0        sales  medium          0.75  \n",
       "8301                       0        RandD     low          0.50  \n",
       "4845                       0      support     low          0.75  \n",
       "517                        0    marketing  medium          0.50  "
      ]
     },
     "execution_count": 196,
     "metadata": {},
     "output_type": "execute_result"
    }
   ],
   "source": [
    "#confirm the function has been implemented correctly\n",
    "existing_emp.sample(10)"
   ]
  },
  {
   "cell_type": "code",
   "execution_count": 197,
   "metadata": {},
   "outputs": [
    {
     "data": {
      "text/plain": [
       "<Figure size 1080x1080 with 0 Axes>"
      ]
     },
     "metadata": {},
     "output_type": "display_data"
    },
    {
     "data": {
      "image/png": "[encoded data removed]",
      "text/plain": [
       "<Figure size 432x288 with 1 Axes>"
      ]
     },
     "metadata": {
      "needs_background": "light"
     },
     "output_type": "display_data"
    }
   ],
   "source": [
    "# Department vs Satisfaction\n",
    "plt.figure(figsize=(15,15))\n",
    "existing_emp.groupby('dept')[\"satisfaction\"].value_counts().unstack(0).plot.bar()\n",
    "plt.title(\"Department vs Satisfaction- Existing Employee\")\n",
    "plt.xlabel(\"Satisfaction\")\n",
    "plt.ylabel(\"Count\")\n",
    "plt.show()"
   ]
  },
  {
   "cell_type": "markdown",
   "metadata": {},
   "source": [
    "Sales department has the highest number of satisfied employees followed by the technical department and Support department.\n",
    "\n",
    "This could be attributed by the fact that they have the highest number of employees.\n",
    "\n",
    "So we shall check how many employees are in each department to see if this could be the cause of the above result"
   ]
  },
  {
   "cell_type": "code",
   "execution_count": 198,
   "metadata": {},
   "outputs": [
    {
     "data": {
      "text/plain": [
       "dept\n",
       "IT              954\n",
       "RandD           666\n",
       "accounting      563\n",
       "hr              524\n",
       "management      539\n",
       "marketing       655\n",
       "product_mng     704\n",
       "sales          3126\n",
       "support        1674\n",
       "technical      2023\n",
       "Name: emp_id, dtype: int64"
      ]
     },
     "execution_count": 198,
     "metadata": {},
     "output_type": "execute_result"
    },
    {
     "data": {
      "text/plain": [
       "<Figure size 432x432 with 0 Axes>"
      ]
     },
     "metadata": {},
     "output_type": "display_data"
    }
   ],
   "source": [
    "#Which Department has more employees\n",
    "plt.figure(figsize=(6,6))\n",
    "existing_emp.groupby(\"dept\")[\"emp_id\"].count()\n",
    "\n",
    "# Sales ,support , technical has the highest numbers of employees hance the high numbers on the satisfaction levels \n",
    "#ASSUMPTION - This 3 departments have the highest number of employees stilldue to some not experiencing growth maybe if tasks are unevenly distributed"
   ]
  },
  {
   "cell_type": "code",
   "execution_count": 199,
   "metadata": {},
   "outputs": [
    {
     "data": {
      "text/plain": [
       "<Figure size 432x432 with 0 Axes>"
      ]
     },
     "metadata": {},
     "output_type": "display_data"
    },
    {
     "data": {
      "image/png": "[encoded data removed]",
      "text/plain": [
       "<Figure size 432x288 with 1 Axes>"
      ]
     },
     "metadata": {
      "needs_background": "light"
     },
     "output_type": "display_data"
    }
   ],
   "source": [
    "#Relationship between the number of projects and salary\n",
    "plt.figure(figsize=(6,6))\n",
    "existing_emp.groupby('salary')['number_project'].value_counts().unstack(0).plot.bar()\n",
    "plt.title(\"Salary vs Number of Projects- Existing Employee\")\n",
    "plt.xlabel(\"Number of projects\")\n",
    "plt.show()\n",
    "# There is presence of exploitation in the company since majority of the people with the many projects have very low salary\n",
    "#We can conclude that, if presence of better opportunities arise, they are willing to take them"
   ]
  },
  {
   "cell_type": "code",
   "execution_count": 200,
   "metadata": {},
   "outputs": [
    {
     "data": {
      "text/plain": [
       "<Figure size 432x432 with 0 Axes>"
      ]
     },
     "metadata": {},
     "output_type": "display_data"
    },
    {
     "data": {
      "image/png": "[encoded data removed]",
      "text/plain": [
       "<Figure size 432x288 with 1 Axes>"
      ]
     },
     "metadata": {
      "needs_background": "light"
     },
     "output_type": "display_data"
    }
   ],
   "source": [
    "#Employee duration in the company vs the salary they earn\n",
    "plt.figure(figsize=(6,6))\n",
    "existing_emp.groupby('time_spend_company')['salary'].value_counts().unstack(0).plot.bar()\n",
    "plt.title(\"Salary vs Time spent in the company- Existing Employee\")\n",
    "plt.xlabel(\"Salary\")\n",
    "plt.show()\n",
    "#Based on the employees duration they have in the company,theyy are still being paid too little "
   ]
  },
  {
   "cell_type": "code",
   "execution_count": 201,
   "metadata": {},
   "outputs": [
    {
     "data": {
      "image/png": "[encoded data removed]",
      "text/plain": [
       "<Figure size 432x288 with 1 Axes>"
      ]
     },
     "metadata": {
      "needs_background": "light"
     },
     "output_type": "display_data"
    }
   ],
   "source": [
    "#Number of projects Vs Promotion in the last 5 years \n",
    "existing_emp.groupby(['number_project'])['promotion_last_5years'].value_counts().unstack(0).plot.bar()\n",
    "plt.title(\"Number of projects vs Promotion in the last 5 years- Existing Employee\")\n",
    "plt.xlabel(\"Promotion in the last 5 years\")\n",
    "plt.show()\n",
    "#Majority of the employees do not receive any promotion hence they might opt to leave and seek for career growth elsewhere "
   ]
  },
  {
   "cell_type": "code",
   "execution_count": 202,
   "metadata": {},
   "outputs": [
    {
     "data": {
      "image/png": "[encoded data removed]",
      "text/plain": [
       "<Figure size 432x288 with 1 Axes>"
      ]
     },
     "metadata": {
      "needs_background": "light"
     },
     "output_type": "display_data"
    }
   ],
   "source": [
    "#Could the employees could cause them not to receive promotions\n",
    "existing_emp.groupby(['work_accident'])['promotion_last_5years'].value_counts().unstack(0).plot.bar()\n",
    "plt.title(\"Work accident vs Promotion in the last 5 years- Existing Employee\")\n",
    "plt.xlabel(\"Promotion in the last 5 years\")\n",
    "plt.show()\n",
    "#from the graph, we can see that majority of the employees have been ethical (well behaved) yet they do not receive any promotions."
   ]
  },
  {
   "cell_type": "markdown",
   "metadata": {},
   "source": [
    "### Multivariate Analysis\n"
   ]
  },
  {
   "cell_type": "code",
   "execution_count": 203,
   "metadata": {
    "scrolled": false
   },
   "outputs": [
    {
     "data": {
      "text/html": [
       "<div>\n",
       "<style scoped>\n",
       "    .dataframe tbody tr th:only-of-type {\n",
       "        vertical-align: middle;\n",
       "    }\n",
       "\n",
       "    .dataframe tbody tr th {\n",
       "        vertical-align: top;\n",
       "    }\n",
       "\n",
       "    .dataframe thead th {\n",
       "        text-align: right;\n",
       "    }\n",
       "</style>\n",
       "<table border=\"1\" class=\"dataframe\">\n",
       "  <thead>\n",
       "    <tr style=\"text-align: right;\">\n",
       "      <th></th>\n",
       "      <th>emp_id</th>\n",
       "      <th>satisfaction_level</th>\n",
       "      <th>last_evaluation</th>\n",
       "      <th>number_project</th>\n",
       "      <th>average_montly_hours</th>\n",
       "      <th>time_spend_company</th>\n",
       "      <th>work_accident</th>\n",
       "      <th>promotion_last_5years</th>\n",
       "      <th>satisfaction</th>\n",
       "    </tr>\n",
       "  </thead>\n",
       "  <tbody>\n",
       "    <tr>\n",
       "      <td>emp_id</td>\n",
       "      <td>1.000000</td>\n",
       "      <td>-0.008605</td>\n",
       "      <td>-0.018822</td>\n",
       "      <td>-0.004694</td>\n",
       "      <td>0.006287</td>\n",
       "      <td>0.250814</td>\n",
       "      <td>0.001522</td>\n",
       "      <td>0.115994</td>\n",
       "      <td>-0.001579</td>\n",
       "    </tr>\n",
       "    <tr>\n",
       "      <td>satisfaction_level</td>\n",
       "      <td>-0.008605</td>\n",
       "      <td>1.000000</td>\n",
       "      <td>0.086357</td>\n",
       "      <td>-0.092799</td>\n",
       "      <td>0.055354</td>\n",
       "      <td>-0.168791</td>\n",
       "      <td>-0.003128</td>\n",
       "      <td>0.001228</td>\n",
       "      <td>0.894235</td>\n",
       "    </tr>\n",
       "    <tr>\n",
       "      <td>last_evaluation</td>\n",
       "      <td>-0.018822</td>\n",
       "      <td>0.086357</td>\n",
       "      <td>1.000000</td>\n",
       "      <td>0.040306</td>\n",
       "      <td>0.090304</td>\n",
       "      <td>-0.017682</td>\n",
       "      <td>-0.007416</td>\n",
       "      <td>-0.002034</td>\n",
       "      <td>0.053577</td>\n",
       "    </tr>\n",
       "    <tr>\n",
       "      <td>number_project</td>\n",
       "      <td>-0.004694</td>\n",
       "      <td>-0.092799</td>\n",
       "      <td>0.040306</td>\n",
       "      <td>1.000000</td>\n",
       "      <td>0.070289</td>\n",
       "      <td>0.079943</td>\n",
       "      <td>0.001098</td>\n",
       "      <td>0.001676</td>\n",
       "      <td>-0.093752</td>\n",
       "    </tr>\n",
       "    <tr>\n",
       "      <td>average_montly_hours</td>\n",
       "      <td>0.006287</td>\n",
       "      <td>0.055354</td>\n",
       "      <td>0.090304</td>\n",
       "      <td>0.070289</td>\n",
       "      <td>1.000000</td>\n",
       "      <td>-0.016444</td>\n",
       "      <td>0.003285</td>\n",
       "      <td>0.007871</td>\n",
       "      <td>0.028841</td>\n",
       "    </tr>\n",
       "    <tr>\n",
       "      <td>time_spend_company</td>\n",
       "      <td>0.250814</td>\n",
       "      <td>-0.168791</td>\n",
       "      <td>-0.017682</td>\n",
       "      <td>0.079943</td>\n",
       "      <td>-0.016444</td>\n",
       "      <td>1.000000</td>\n",
       "      <td>0.027261</td>\n",
       "      <td>0.088629</td>\n",
       "      <td>-0.148592</td>\n",
       "    </tr>\n",
       "    <tr>\n",
       "      <td>work_accident</td>\n",
       "      <td>0.001522</td>\n",
       "      <td>-0.003128</td>\n",
       "      <td>-0.007416</td>\n",
       "      <td>0.001098</td>\n",
       "      <td>0.003285</td>\n",
       "      <td>0.027261</td>\n",
       "      <td>1.000000</td>\n",
       "      <td>0.028084</td>\n",
       "      <td>-0.006881</td>\n",
       "    </tr>\n",
       "    <tr>\n",
       "      <td>promotion_last_5years</td>\n",
       "      <td>0.115994</td>\n",
       "      <td>0.001228</td>\n",
       "      <td>-0.002034</td>\n",
       "      <td>0.001676</td>\n",
       "      <td>0.007871</td>\n",
       "      <td>0.088629</td>\n",
       "      <td>0.028084</td>\n",
       "      <td>1.000000</td>\n",
       "      <td>0.006849</td>\n",
       "    </tr>\n",
       "    <tr>\n",
       "      <td>satisfaction</td>\n",
       "      <td>-0.001579</td>\n",
       "      <td>0.894235</td>\n",
       "      <td>0.053577</td>\n",
       "      <td>-0.093752</td>\n",
       "      <td>0.028841</td>\n",
       "      <td>-0.148592</td>\n",
       "      <td>-0.006881</td>\n",
       "      <td>0.006849</td>\n",
       "      <td>1.000000</td>\n",
       "    </tr>\n",
       "  </tbody>\n",
       "</table>\n",
       "</div>"
      ],
      "text/plain": [
       "                         emp_id  satisfaction_level  last_evaluation  \\\n",
       "emp_id                 1.000000           -0.008605        -0.018822   \n",
       "satisfaction_level    -0.008605            1.000000         0.086357   \n",
       "last_evaluation       -0.018822            0.086357         1.000000   \n",
       "number_project        -0.004694           -0.092799         0.040306   \n",
       "average_montly_hours   0.006287            0.055354         0.090304   \n",
       "time_spend_company     0.250814           -0.168791        -0.017682   \n",
       "work_accident          0.001522           -0.003128        -0.007416   \n",
       "promotion_last_5years  0.115994            0.001228        -0.002034   \n",
       "satisfaction          -0.001579            0.894235         0.053577   \n",
       "\n",
       "                       number_project  average_montly_hours  \\\n",
       "emp_id                      -0.004694              0.006287   \n",
       "satisfaction_level          -0.092799              0.055354   \n",
       "last_evaluation              0.040306              0.090304   \n",
       "number_project               1.000000              0.070289   \n",
       "average_montly_hours         0.070289              1.000000   \n",
       "time_spend_company           0.079943             -0.016444   \n",
       "work_accident                0.001098              0.003285   \n",
       "promotion_last_5years        0.001676              0.007871   \n",
       "satisfaction                -0.093752              0.028841   \n",
       "\n",
       "                       time_spend_company  work_accident  \\\n",
       "emp_id                           0.250814       0.001522   \n",
       "satisfaction_level              -0.168791      -0.003128   \n",
       "last_evaluation                 -0.017682      -0.007416   \n",
       "number_project                   0.079943       0.001098   \n",
       "average_montly_hours            -0.016444       0.003285   \n",
       "time_spend_company               1.000000       0.027261   \n",
       "work_accident                    0.027261       1.000000   \n",
       "promotion_last_5years            0.088629       0.028084   \n",
       "satisfaction                    -0.148592      -0.006881   \n",
       "\n",
       "                       promotion_last_5years  satisfaction  \n",
       "emp_id                              0.115994     -0.001579  \n",
       "satisfaction_level                  0.001228      0.894235  \n",
       "last_evaluation                    -0.002034      0.053577  \n",
       "number_project                      0.001676     -0.093752  \n",
       "average_montly_hours                0.007871      0.028841  \n",
       "time_spend_company                  0.088629     -0.148592  \n",
       "work_accident                       0.028084     -0.006881  \n",
       "promotion_last_5years               1.000000      0.006849  \n",
       "satisfaction                        0.006849      1.000000  "
      ]
     },
     "metadata": {},
     "output_type": "display_data"
    },
    {
     "data": {
      "text/plain": [
       "<matplotlib.axes._subplots.AxesSubplot at 0x1f0b440d708>"
      ]
     },
     "execution_count": 203,
     "metadata": {},
     "output_type": "execute_result"
    },
    {
     "data": {
      "image/png": "[encoded data removed]",
      "text/plain": [
       "<Figure size 792x576 with 2 Axes>"
      ]
     },
     "metadata": {
      "needs_background": "light"
     },
     "output_type": "display_data"
    }
   ],
   "source": [
    "# Correlation \n",
    "corr = existing_emp.corr()\n",
    "display(corr)\n",
    "plt.figure(figsize=(11,8))\n",
    "plt.title(\"Correlation- Existing Employee\")\n",
    "sns.heatmap(corr,annot = True,linewidths=.5)"
   ]
  },
  {
   "cell_type": "markdown",
   "metadata": {},
   "source": [
    "The heatmap above shows that if there is a negative correlation one variable increases the other decreases\n",
    "\n",
    "The number of projects and satisfaction levels have a negative correlation of -0.093. Meaning, when the number of projects increases, the employees satisfaction decreases.\n",
    "\n"
   ]
  },
  {
   "cell_type": "markdown",
   "metadata": {},
   "source": [
    "# Assumptions"
   ]
  },
  {
   "cell_type": "markdown",
   "metadata": {},
   "source": []
  },
  {
   "cell_type": "markdown",
   "metadata": {},
   "source": [
    "# Conclusion"
   ]
  },
  {
   "cell_type": "markdown",
   "metadata": {},
   "source": [
    "## Findings"
   ]
  },
  {
   "cell_type": "markdown",
   "metadata": {},
   "source": [
    "From the analysis conducted above, I have concluded that Company X is losing majority of there employees due to the wages . This could mean that the company has not reviewed their salary structure which should be reviewed every 18 - 24 months. The rationale behind this is to catch isssues before they become large enough to affect employee engagement and the organizations ability to attract and retain talent.\n",
    "\n",
    "Moreover, addressing salary structure is less expensive compared to expenses endured for the recruiting process.\n",
    "Company X could also lose its employees due to poor leadership which does not drive employees career development. In this case, we can see that majority of them have not received promotion for over 5 years and are still being under-paid.\n",
    "\n",
    "If often seen that good employees get most of the work load due to the trust the leaders have in them. However, Company X should ensure than the number of projects are equally distributed among the employees. If not they should be awarded with incentives or increase in their salary \n",
    "\n",
    "The Company should aim in improving this attributes otherwise,they will keep losing their employees  "
   ]
  },
  {
   "cell_type": "markdown",
   "metadata": {},
   "source": [
    "## Way forward"
   ]
  },
  {
   "cell_type": "markdown",
   "metadata": {},
   "source": [
    "1) Company X needs to review the salary of there employees\n",
    "\n",
    "2) They should add a culture to motivate employees by giving them incentives. Example, they could call out best performing employees for each department per quarter, they could give bonuses. \n",
    "\n",
    "3) Employ more workforce if the workload is too much for the available employees\n",
    "\n",
    "4) Include activities like Team building. This builds trust among the employees and their superiors as well as amaong the employees themselves. It also creates an environment for everyone to solve internal conflicts they were facing."
   ]
  }
 ],
 "metadata": {
  "kernelspec": {
   "display_name": "Python 3",
   "language": "python",
   "name": "python3"
  },
  "language_info": {
   "codemirror_mode": {
    "name": "ipython",
    "version": 3
   },
   "file_extension": ".py",
   "mimetype": "text/x-python",
   "name": "python",
   "nbconvert_exporter": "python",
   "pygments_lexer": "ipython3",
   "version": "3.7.4"
  },
  "toc": {
   "base_numbering": 1,
   "nav_menu": {},
   "number_sections": true,
   "sideBar": true,
   "skip_h1_title": false,
   "title_cell": "Table of Contents",
   "title_sidebar": "Contents",
   "toc_cell": false,
   "toc_position": {
    "height": "calc(100% - 180px)",
    "left": "10px",
    "top": "150px",
    "width": "196.188px"
   },
   "toc_section_display": true,
   "toc_window_display": true
  }
 },
 "nbformat": 4,
 "nbformat_minor": 2
}
